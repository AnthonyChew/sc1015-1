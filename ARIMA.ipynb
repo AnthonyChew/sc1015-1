{
 "cells": [
  {
   "cell_type": "markdown",
   "id": "1e081fcb",
   "metadata": {},
   "source": [
    "# Import Modules"
   ]
  },
  {
   "cell_type": "code",
   "execution_count": 2,
   "id": "c5645748",
   "metadata": {},
   "outputs": [],
   "source": [
    "import numpy as np\n",
    "import pandas as pd\n",
    "import matplotlib.pylab as plt\n",
    "from matplotlib.pylab import rcParams\n",
    "rcParams['figure.figsize'] = 10, 6\n",
    "import pandas as pd"
   ]
  },
  {
   "cell_type": "code",
   "execution_count": 13,
   "id": "e6e21963",
   "metadata": {},
   "outputs": [],
   "source": [
    "hdb = pd.read_csv('./archive/hdb.csv')"
   ]
  },
  {
   "cell_type": "code",
   "execution_count": 14,
   "id": "1b0da701",
   "metadata": {},
   "outputs": [
    {
     "data": {
      "text/html": [
       "<div>\n",
       "<style scoped>\n",
       "    .dataframe tbody tr th:only-of-type {\n",
       "        vertical-align: middle;\n",
       "    }\n",
       "\n",
       "    .dataframe tbody tr th {\n",
       "        vertical-align: top;\n",
       "    }\n",
       "\n",
       "    .dataframe thead th {\n",
       "        text-align: right;\n",
       "    }\n",
       "</style>\n",
       "<table border=\"1\" class=\"dataframe\">\n",
       "  <thead>\n",
       "    <tr style=\"text-align: right;\">\n",
       "      <th></th>\n",
       "      <th>date</th>\n",
       "      <th>year</th>\n",
       "      <th>month</th>\n",
       "      <th>town</th>\n",
       "      <th>flat_type</th>\n",
       "      <th>block</th>\n",
       "      <th>street_name</th>\n",
       "      <th>storey_range</th>\n",
       "      <th>floor_area_sqm</th>\n",
       "      <th>flat_model</th>\n",
       "      <th>lease_commence_date</th>\n",
       "      <th>resale_price</th>\n",
       "      <th>remaining_lease</th>\n",
       "    </tr>\n",
       "  </thead>\n",
       "  <tbody>\n",
       "    <tr>\n",
       "      <th>0</th>\n",
       "      <td>2015-01-01</td>\n",
       "      <td>2015</td>\n",
       "      <td>1</td>\n",
       "      <td>ANG MO KIO</td>\n",
       "      <td>3 ROOM</td>\n",
       "      <td>174</td>\n",
       "      <td>ANG MO KIO AVE 4</td>\n",
       "      <td>07 TO 09</td>\n",
       "      <td>60.0</td>\n",
       "      <td>Improved</td>\n",
       "      <td>1986</td>\n",
       "      <td>255000.0</td>\n",
       "      <td>70</td>\n",
       "    </tr>\n",
       "    <tr>\n",
       "      <th>1</th>\n",
       "      <td>2015-01-01</td>\n",
       "      <td>2015</td>\n",
       "      <td>1</td>\n",
       "      <td>ANG MO KIO</td>\n",
       "      <td>3 ROOM</td>\n",
       "      <td>541</td>\n",
       "      <td>ANG MO KIO AVE 10</td>\n",
       "      <td>01 TO 03</td>\n",
       "      <td>68.0</td>\n",
       "      <td>New Generation</td>\n",
       "      <td>1981</td>\n",
       "      <td>275000.0</td>\n",
       "      <td>65</td>\n",
       "    </tr>\n",
       "    <tr>\n",
       "      <th>2</th>\n",
       "      <td>2015-01-01</td>\n",
       "      <td>2015</td>\n",
       "      <td>1</td>\n",
       "      <td>ANG MO KIO</td>\n",
       "      <td>3 ROOM</td>\n",
       "      <td>163</td>\n",
       "      <td>ANG MO KIO AVE 4</td>\n",
       "      <td>01 TO 03</td>\n",
       "      <td>69.0</td>\n",
       "      <td>New Generation</td>\n",
       "      <td>1980</td>\n",
       "      <td>285000.0</td>\n",
       "      <td>64</td>\n",
       "    </tr>\n",
       "    <tr>\n",
       "      <th>3</th>\n",
       "      <td>2015-01-01</td>\n",
       "      <td>2015</td>\n",
       "      <td>1</td>\n",
       "      <td>ANG MO KIO</td>\n",
       "      <td>3 ROOM</td>\n",
       "      <td>446</td>\n",
       "      <td>ANG MO KIO AVE 10</td>\n",
       "      <td>01 TO 03</td>\n",
       "      <td>68.0</td>\n",
       "      <td>New Generation</td>\n",
       "      <td>1979</td>\n",
       "      <td>290000.0</td>\n",
       "      <td>63</td>\n",
       "    </tr>\n",
       "    <tr>\n",
       "      <th>4</th>\n",
       "      <td>2015-01-01</td>\n",
       "      <td>2015</td>\n",
       "      <td>1</td>\n",
       "      <td>ANG MO KIO</td>\n",
       "      <td>3 ROOM</td>\n",
       "      <td>557</td>\n",
       "      <td>ANG MO KIO AVE 10</td>\n",
       "      <td>07 TO 09</td>\n",
       "      <td>68.0</td>\n",
       "      <td>New Generation</td>\n",
       "      <td>1980</td>\n",
       "      <td>290000.0</td>\n",
       "      <td>64</td>\n",
       "    </tr>\n",
       "    <tr>\n",
       "      <th>...</th>\n",
       "      <td>...</td>\n",
       "      <td>...</td>\n",
       "      <td>...</td>\n",
       "      <td>...</td>\n",
       "      <td>...</td>\n",
       "      <td>...</td>\n",
       "      <td>...</td>\n",
       "      <td>...</td>\n",
       "      <td>...</td>\n",
       "      <td>...</td>\n",
       "      <td>...</td>\n",
       "      <td>...</td>\n",
       "      <td>...</td>\n",
       "    </tr>\n",
       "    <tr>\n",
       "      <th>826576</th>\n",
       "      <td>2014-12-01</td>\n",
       "      <td>2014</td>\n",
       "      <td>12</td>\n",
       "      <td>YISHUN</td>\n",
       "      <td>5 ROOM</td>\n",
       "      <td>816</td>\n",
       "      <td>YISHUN ST 81</td>\n",
       "      <td>10 TO 12</td>\n",
       "      <td>122.0</td>\n",
       "      <td>Improved</td>\n",
       "      <td>1988</td>\n",
       "      <td>580000.0</td>\n",
       "      <td>73</td>\n",
       "    </tr>\n",
       "    <tr>\n",
       "      <th>826577</th>\n",
       "      <td>2014-12-01</td>\n",
       "      <td>2014</td>\n",
       "      <td>12</td>\n",
       "      <td>YISHUN</td>\n",
       "      <td>EXECUTIVE</td>\n",
       "      <td>325</td>\n",
       "      <td>YISHUN CTRL</td>\n",
       "      <td>10 TO 12</td>\n",
       "      <td>146.0</td>\n",
       "      <td>Maisonette</td>\n",
       "      <td>1988</td>\n",
       "      <td>540000.0</td>\n",
       "      <td>73</td>\n",
       "    </tr>\n",
       "    <tr>\n",
       "      <th>826578</th>\n",
       "      <td>2014-12-01</td>\n",
       "      <td>2014</td>\n",
       "      <td>12</td>\n",
       "      <td>YISHUN</td>\n",
       "      <td>EXECUTIVE</td>\n",
       "      <td>618</td>\n",
       "      <td>YISHUN RING RD</td>\n",
       "      <td>07 TO 09</td>\n",
       "      <td>164.0</td>\n",
       "      <td>Apartment</td>\n",
       "      <td>1992</td>\n",
       "      <td>738000.0</td>\n",
       "      <td>77</td>\n",
       "    </tr>\n",
       "    <tr>\n",
       "      <th>826579</th>\n",
       "      <td>2014-12-01</td>\n",
       "      <td>2014</td>\n",
       "      <td>12</td>\n",
       "      <td>YISHUN</td>\n",
       "      <td>EXECUTIVE</td>\n",
       "      <td>277</td>\n",
       "      <td>YISHUN ST 22</td>\n",
       "      <td>07 TO 09</td>\n",
       "      <td>152.0</td>\n",
       "      <td>Maisonette</td>\n",
       "      <td>1985</td>\n",
       "      <td>592000.0</td>\n",
       "      <td>70</td>\n",
       "    </tr>\n",
       "    <tr>\n",
       "      <th>826580</th>\n",
       "      <td>2014-12-01</td>\n",
       "      <td>2014</td>\n",
       "      <td>12</td>\n",
       "      <td>YISHUN</td>\n",
       "      <td>EXECUTIVE</td>\n",
       "      <td>277</td>\n",
       "      <td>YISHUN ST 22</td>\n",
       "      <td>04 TO 06</td>\n",
       "      <td>146.0</td>\n",
       "      <td>Maisonette</td>\n",
       "      <td>1985</td>\n",
       "      <td>545000.0</td>\n",
       "      <td>70</td>\n",
       "    </tr>\n",
       "  </tbody>\n",
       "</table>\n",
       "<p>826581 rows × 13 columns</p>\n",
       "</div>"
      ],
      "text/plain": [
       "              date  year  month        town  flat_type block  \\\n",
       "0       2015-01-01  2015      1  ANG MO KIO     3 ROOM   174   \n",
       "1       2015-01-01  2015      1  ANG MO KIO     3 ROOM   541   \n",
       "2       2015-01-01  2015      1  ANG MO KIO     3 ROOM   163   \n",
       "3       2015-01-01  2015      1  ANG MO KIO     3 ROOM   446   \n",
       "4       2015-01-01  2015      1  ANG MO KIO     3 ROOM   557   \n",
       "...            ...   ...    ...         ...        ...   ...   \n",
       "826576  2014-12-01  2014     12      YISHUN     5 ROOM   816   \n",
       "826577  2014-12-01  2014     12      YISHUN  EXECUTIVE   325   \n",
       "826578  2014-12-01  2014     12      YISHUN  EXECUTIVE   618   \n",
       "826579  2014-12-01  2014     12      YISHUN  EXECUTIVE   277   \n",
       "826580  2014-12-01  2014     12      YISHUN  EXECUTIVE   277   \n",
       "\n",
       "              street_name storey_range  floor_area_sqm      flat_model  \\\n",
       "0        ANG MO KIO AVE 4     07 TO 09            60.0        Improved   \n",
       "1       ANG MO KIO AVE 10     01 TO 03            68.0  New Generation   \n",
       "2        ANG MO KIO AVE 4     01 TO 03            69.0  New Generation   \n",
       "3       ANG MO KIO AVE 10     01 TO 03            68.0  New Generation   \n",
       "4       ANG MO KIO AVE 10     07 TO 09            68.0  New Generation   \n",
       "...                   ...          ...             ...             ...   \n",
       "826576       YISHUN ST 81     10 TO 12           122.0        Improved   \n",
       "826577        YISHUN CTRL     10 TO 12           146.0      Maisonette   \n",
       "826578     YISHUN RING RD     07 TO 09           164.0       Apartment   \n",
       "826579       YISHUN ST 22     07 TO 09           152.0      Maisonette   \n",
       "826580       YISHUN ST 22     04 TO 06           146.0      Maisonette   \n",
       "\n",
       "        lease_commence_date  resale_price  remaining_lease  \n",
       "0                      1986      255000.0               70  \n",
       "1                      1981      275000.0               65  \n",
       "2                      1980      285000.0               64  \n",
       "3                      1979      290000.0               63  \n",
       "4                      1980      290000.0               64  \n",
       "...                     ...           ...              ...  \n",
       "826576                 1988      580000.0               73  \n",
       "826577                 1988      540000.0               73  \n",
       "826578                 1992      738000.0               77  \n",
       "826579                 1985      592000.0               70  \n",
       "826580                 1985      545000.0               70  \n",
       "\n",
       "[826581 rows x 13 columns]"
      ]
     },
     "execution_count": 14,
     "metadata": {},
     "output_type": "execute_result"
    }
   ],
   "source": [
    "hdb"
   ]
  },
  {
   "cell_type": "code",
   "execution_count": 3,
   "id": "3509b602",
   "metadata": {},
   "outputs": [],
   "source": [
    "hdb_groupby_blk = hdb.groupby([\"town\", \"flat_type\", \"block\", \"street_name\", \"floor_area_sqm\", \"lease_commence_date\"])"
   ]
  },
  {
   "cell_type": "code",
   "execution_count": 4,
   "id": "7156382f",
   "metadata": {},
   "outputs": [
    {
     "data": {
      "text/html": [
       "<div>\n",
       "<style scoped>\n",
       "    .dataframe tbody tr th:only-of-type {\n",
       "        vertical-align: middle;\n",
       "    }\n",
       "\n",
       "    .dataframe tbody tr th {\n",
       "        vertical-align: top;\n",
       "    }\n",
       "\n",
       "    .dataframe thead th {\n",
       "        text-align: right;\n",
       "    }\n",
       "</style>\n",
       "<table border=\"1\" class=\"dataframe\">\n",
       "  <thead>\n",
       "    <tr style=\"text-align: right;\">\n",
       "      <th></th>\n",
       "      <th>town</th>\n",
       "      <th>flat_type</th>\n",
       "      <th>block</th>\n",
       "      <th>street_name</th>\n",
       "      <th>floor_area_sqm</th>\n",
       "      <th>lease_commence_date</th>\n",
       "      <th>counts</th>\n",
       "    </tr>\n",
       "  </thead>\n",
       "  <tbody>\n",
       "    <tr>\n",
       "      <th>15478</th>\n",
       "      <td>JURONG WEST</td>\n",
       "      <td>3 ROOM</td>\n",
       "      <td>211</td>\n",
       "      <td>BOON LAY PL</td>\n",
       "      <td>65.0</td>\n",
       "      <td>1976</td>\n",
       "      <td>667</td>\n",
       "    </tr>\n",
       "    <tr>\n",
       "      <th>15457</th>\n",
       "      <td>JURONG WEST</td>\n",
       "      <td>3 ROOM</td>\n",
       "      <td>186</td>\n",
       "      <td>BOON LAY AVE</td>\n",
       "      <td>59.0</td>\n",
       "      <td>1975</td>\n",
       "      <td>618</td>\n",
       "    </tr>\n",
       "    <tr>\n",
       "      <th>15455</th>\n",
       "      <td>JURONG WEST</td>\n",
       "      <td>3 ROOM</td>\n",
       "      <td>185</td>\n",
       "      <td>BOON LAY AVE</td>\n",
       "      <td>59.0</td>\n",
       "      <td>1975</td>\n",
       "      <td>615</td>\n",
       "    </tr>\n",
       "    <tr>\n",
       "      <th>15468</th>\n",
       "      <td>JURONG WEST</td>\n",
       "      <td>3 ROOM</td>\n",
       "      <td>208</td>\n",
       "      <td>BOON LAY PL</td>\n",
       "      <td>65.0</td>\n",
       "      <td>1976</td>\n",
       "      <td>613</td>\n",
       "    </tr>\n",
       "    <tr>\n",
       "      <th>15475</th>\n",
       "      <td>JURONG WEST</td>\n",
       "      <td>3 ROOM</td>\n",
       "      <td>210</td>\n",
       "      <td>BOON LAY PL</td>\n",
       "      <td>65.0</td>\n",
       "      <td>1977</td>\n",
       "      <td>612</td>\n",
       "    </tr>\n",
       "    <tr>\n",
       "      <th>...</th>\n",
       "      <td>...</td>\n",
       "      <td>...</td>\n",
       "      <td>...</td>\n",
       "      <td>...</td>\n",
       "      <td>...</td>\n",
       "      <td>...</td>\n",
       "      <td>...</td>\n",
       "    </tr>\n",
       "    <tr>\n",
       "      <th>25081</th>\n",
       "      <td>SENGKANG</td>\n",
       "      <td>5 ROOM</td>\n",
       "      <td>117C</td>\n",
       "      <td>RIVERVALE DR</td>\n",
       "      <td>114.0</td>\n",
       "      <td>2000</td>\n",
       "      <td>1</td>\n",
       "    </tr>\n",
       "    <tr>\n",
       "      <th>25071</th>\n",
       "      <td>SENGKANG</td>\n",
       "      <td>5 ROOM</td>\n",
       "      <td>116A</td>\n",
       "      <td>RIVERVALE DR</td>\n",
       "      <td>114.0</td>\n",
       "      <td>2000</td>\n",
       "      <td>1</td>\n",
       "    </tr>\n",
       "    <tr>\n",
       "      <th>25065</th>\n",
       "      <td>SENGKANG</td>\n",
       "      <td>5 ROOM</td>\n",
       "      <td>114</td>\n",
       "      <td>RIVERVALE WALK</td>\n",
       "      <td>123.0</td>\n",
       "      <td>1998</td>\n",
       "      <td>1</td>\n",
       "    </tr>\n",
       "    <tr>\n",
       "      <th>25048</th>\n",
       "      <td>SENGKANG</td>\n",
       "      <td>5 ROOM</td>\n",
       "      <td>110</td>\n",
       "      <td>RIVERVALE WALK</td>\n",
       "      <td>122.0</td>\n",
       "      <td>1999</td>\n",
       "      <td>1</td>\n",
       "    </tr>\n",
       "    <tr>\n",
       "      <th>18190</th>\n",
       "      <td>KALLANG/WHAMPOA</td>\n",
       "      <td>2 ROOM</td>\n",
       "      <td>1</td>\n",
       "      <td>BEACH RD</td>\n",
       "      <td>47.0</td>\n",
       "      <td>1979</td>\n",
       "      <td>1</td>\n",
       "    </tr>\n",
       "  </tbody>\n",
       "</table>\n",
       "<p>36381 rows × 7 columns</p>\n",
       "</div>"
      ],
      "text/plain": [
       "                  town flat_type block     street_name  floor_area_sqm  \\\n",
       "15478      JURONG WEST    3 ROOM   211     BOON LAY PL            65.0   \n",
       "15457      JURONG WEST    3 ROOM   186    BOON LAY AVE            59.0   \n",
       "15455      JURONG WEST    3 ROOM   185    BOON LAY AVE            59.0   \n",
       "15468      JURONG WEST    3 ROOM   208     BOON LAY PL            65.0   \n",
       "15475      JURONG WEST    3 ROOM   210     BOON LAY PL            65.0   \n",
       "...                ...       ...   ...             ...             ...   \n",
       "25081         SENGKANG    5 ROOM  117C    RIVERVALE DR           114.0   \n",
       "25071         SENGKANG    5 ROOM  116A    RIVERVALE DR           114.0   \n",
       "25065         SENGKANG    5 ROOM   114  RIVERVALE WALK           123.0   \n",
       "25048         SENGKANG    5 ROOM   110  RIVERVALE WALK           122.0   \n",
       "18190  KALLANG/WHAMPOA    2 ROOM     1        BEACH RD            47.0   \n",
       "\n",
       "       lease_commence_date  counts  \n",
       "15478                 1976     667  \n",
       "15457                 1975     618  \n",
       "15455                 1975     615  \n",
       "15468                 1976     613  \n",
       "15475                 1977     612  \n",
       "...                    ...     ...  \n",
       "25081                 2000       1  \n",
       "25071                 2000       1  \n",
       "25065                 1998       1  \n",
       "25048                 1999       1  \n",
       "18190                 1979       1  \n",
       "\n",
       "[36381 rows x 7 columns]"
      ]
     },
     "execution_count": 4,
     "metadata": {},
     "output_type": "execute_result"
    }
   ],
   "source": [
    "hdb_groupby_blk.size().reset_index(name=\"counts\").sort_values(\"counts\", ascending =False)"
   ]
  },
  {
   "cell_type": "markdown",
   "id": "65037a90",
   "metadata": {},
   "source": [
    "# Find best blk with the most amount of unique day data"
   ]
  },
  {
   "cell_type": "code",
   "execution_count": 5,
   "id": "10c7494b",
   "metadata": {},
   "outputs": [
    {
     "data": {
      "text/html": [
       "<div>\n",
       "<style scoped>\n",
       "    .dataframe tbody tr th:only-of-type {\n",
       "        vertical-align: middle;\n",
       "    }\n",
       "\n",
       "    .dataframe tbody tr th {\n",
       "        vertical-align: top;\n",
       "    }\n",
       "\n",
       "    .dataframe thead th {\n",
       "        text-align: right;\n",
       "    }\n",
       "</style>\n",
       "<table border=\"1\" class=\"dataframe\">\n",
       "  <thead>\n",
       "    <tr style=\"text-align: right;\">\n",
       "      <th></th>\n",
       "      <th>town</th>\n",
       "      <th>flat_type</th>\n",
       "      <th>block</th>\n",
       "      <th>street_name</th>\n",
       "      <th>floor_area_sqm</th>\n",
       "      <th>lease_commence_date</th>\n",
       "      <th>date</th>\n",
       "      <th>year</th>\n",
       "      <th>month</th>\n",
       "      <th>storey_range</th>\n",
       "      <th>flat_model</th>\n",
       "      <th>resale_price</th>\n",
       "      <th>remaining_lease</th>\n",
       "    </tr>\n",
       "  </thead>\n",
       "  <tbody>\n",
       "    <tr>\n",
       "      <th>15478</th>\n",
       "      <td>JURONG WEST</td>\n",
       "      <td>3 ROOM</td>\n",
       "      <td>211</td>\n",
       "      <td>BOON LAY PL</td>\n",
       "      <td>65.0</td>\n",
       "      <td>1976</td>\n",
       "      <td>284</td>\n",
       "      <td>31</td>\n",
       "      <td>12</td>\n",
       "      <td>12</td>\n",
       "      <td>2</td>\n",
       "      <td>249</td>\n",
       "      <td>31</td>\n",
       "    </tr>\n",
       "    <tr>\n",
       "      <th>15455</th>\n",
       "      <td>JURONG WEST</td>\n",
       "      <td>3 ROOM</td>\n",
       "      <td>185</td>\n",
       "      <td>BOON LAY AVE</td>\n",
       "      <td>59.0</td>\n",
       "      <td>1975</td>\n",
       "      <td>284</td>\n",
       "      <td>31</td>\n",
       "      <td>12</td>\n",
       "      <td>11</td>\n",
       "      <td>2</td>\n",
       "      <td>231</td>\n",
       "      <td>31</td>\n",
       "    </tr>\n",
       "    <tr>\n",
       "      <th>15475</th>\n",
       "      <td>JURONG WEST</td>\n",
       "      <td>3 ROOM</td>\n",
       "      <td>210</td>\n",
       "      <td>BOON LAY PL</td>\n",
       "      <td>65.0</td>\n",
       "      <td>1977</td>\n",
       "      <td>277</td>\n",
       "      <td>31</td>\n",
       "      <td>12</td>\n",
       "      <td>11</td>\n",
       "      <td>2</td>\n",
       "      <td>237</td>\n",
       "      <td>31</td>\n",
       "    </tr>\n",
       "    <tr>\n",
       "      <th>15468</th>\n",
       "      <td>JURONG WEST</td>\n",
       "      <td>3 ROOM</td>\n",
       "      <td>208</td>\n",
       "      <td>BOON LAY PL</td>\n",
       "      <td>65.0</td>\n",
       "      <td>1976</td>\n",
       "      <td>275</td>\n",
       "      <td>31</td>\n",
       "      <td>12</td>\n",
       "      <td>10</td>\n",
       "      <td>2</td>\n",
       "      <td>237</td>\n",
       "      <td>31</td>\n",
       "    </tr>\n",
       "    <tr>\n",
       "      <th>15457</th>\n",
       "      <td>JURONG WEST</td>\n",
       "      <td>3 ROOM</td>\n",
       "      <td>186</td>\n",
       "      <td>BOON LAY AVE</td>\n",
       "      <td>59.0</td>\n",
       "      <td>1975</td>\n",
       "      <td>275</td>\n",
       "      <td>31</td>\n",
       "      <td>12</td>\n",
       "      <td>11</td>\n",
       "      <td>2</td>\n",
       "      <td>230</td>\n",
       "      <td>31</td>\n",
       "    </tr>\n",
       "    <tr>\n",
       "      <th>...</th>\n",
       "      <td>...</td>\n",
       "      <td>...</td>\n",
       "      <td>...</td>\n",
       "      <td>...</td>\n",
       "      <td>...</td>\n",
       "      <td>...</td>\n",
       "      <td>...</td>\n",
       "      <td>...</td>\n",
       "      <td>...</td>\n",
       "      <td>...</td>\n",
       "      <td>...</td>\n",
       "      <td>...</td>\n",
       "      <td>...</td>\n",
       "    </tr>\n",
       "    <tr>\n",
       "      <th>5028</th>\n",
       "      <td>BUKIT BATOK</td>\n",
       "      <td>4 ROOM</td>\n",
       "      <td>329</td>\n",
       "      <td>BT BATOK ST 33</td>\n",
       "      <td>89.0</td>\n",
       "      <td>1986</td>\n",
       "      <td>1</td>\n",
       "      <td>1</td>\n",
       "      <td>1</td>\n",
       "      <td>1</td>\n",
       "      <td>1</td>\n",
       "      <td>1</td>\n",
       "      <td>1</td>\n",
       "    </tr>\n",
       "    <tr>\n",
       "      <th>24750</th>\n",
       "      <td>SENGKANG</td>\n",
       "      <td>4 ROOM</td>\n",
       "      <td>299A</td>\n",
       "      <td>COMPASSVALE ST</td>\n",
       "      <td>96.0</td>\n",
       "      <td>2001</td>\n",
       "      <td>1</td>\n",
       "      <td>1</td>\n",
       "      <td>1</td>\n",
       "      <td>1</td>\n",
       "      <td>1</td>\n",
       "      <td>1</td>\n",
       "      <td>1</td>\n",
       "    </tr>\n",
       "    <tr>\n",
       "      <th>24747</th>\n",
       "      <td>SENGKANG</td>\n",
       "      <td>4 ROOM</td>\n",
       "      <td>298D</td>\n",
       "      <td>COMPASSVALE ST</td>\n",
       "      <td>98.0</td>\n",
       "      <td>2001</td>\n",
       "      <td>1</td>\n",
       "      <td>1</td>\n",
       "      <td>1</td>\n",
       "      <td>1</td>\n",
       "      <td>1</td>\n",
       "      <td>1</td>\n",
       "      <td>1</td>\n",
       "    </tr>\n",
       "    <tr>\n",
       "      <th>24743</th>\n",
       "      <td>SENGKANG</td>\n",
       "      <td>4 ROOM</td>\n",
       "      <td>298B</td>\n",
       "      <td>COMPASSVALE ST</td>\n",
       "      <td>97.0</td>\n",
       "      <td>2001</td>\n",
       "      <td>1</td>\n",
       "      <td>1</td>\n",
       "      <td>1</td>\n",
       "      <td>1</td>\n",
       "      <td>1</td>\n",
       "      <td>1</td>\n",
       "      <td>1</td>\n",
       "    </tr>\n",
       "    <tr>\n",
       "      <th>18190</th>\n",
       "      <td>KALLANG/WHAMPOA</td>\n",
       "      <td>2 ROOM</td>\n",
       "      <td>1</td>\n",
       "      <td>BEACH RD</td>\n",
       "      <td>47.0</td>\n",
       "      <td>1979</td>\n",
       "      <td>1</td>\n",
       "      <td>1</td>\n",
       "      <td>1</td>\n",
       "      <td>1</td>\n",
       "      <td>1</td>\n",
       "      <td>1</td>\n",
       "      <td>1</td>\n",
       "    </tr>\n",
       "  </tbody>\n",
       "</table>\n",
       "<p>36381 rows × 13 columns</p>\n",
       "</div>"
      ],
      "text/plain": [
       "                  town flat_type block     street_name  floor_area_sqm  \\\n",
       "15478      JURONG WEST    3 ROOM   211     BOON LAY PL            65.0   \n",
       "15455      JURONG WEST    3 ROOM   185    BOON LAY AVE            59.0   \n",
       "15475      JURONG WEST    3 ROOM   210     BOON LAY PL            65.0   \n",
       "15468      JURONG WEST    3 ROOM   208     BOON LAY PL            65.0   \n",
       "15457      JURONG WEST    3 ROOM   186    BOON LAY AVE            59.0   \n",
       "...                ...       ...   ...             ...             ...   \n",
       "5028       BUKIT BATOK    4 ROOM   329  BT BATOK ST 33            89.0   \n",
       "24750         SENGKANG    4 ROOM  299A  COMPASSVALE ST            96.0   \n",
       "24747         SENGKANG    4 ROOM  298D  COMPASSVALE ST            98.0   \n",
       "24743         SENGKANG    4 ROOM  298B  COMPASSVALE ST            97.0   \n",
       "18190  KALLANG/WHAMPOA    2 ROOM     1        BEACH RD            47.0   \n",
       "\n",
       "       lease_commence_date  date  year  month  storey_range  flat_model  \\\n",
       "15478                 1976   284    31     12            12           2   \n",
       "15455                 1975   284    31     12            11           2   \n",
       "15475                 1977   277    31     12            11           2   \n",
       "15468                 1976   275    31     12            10           2   \n",
       "15457                 1975   275    31     12            11           2   \n",
       "...                    ...   ...   ...    ...           ...         ...   \n",
       "5028                  1986     1     1      1             1           1   \n",
       "24750                 2001     1     1      1             1           1   \n",
       "24747                 2001     1     1      1             1           1   \n",
       "24743                 2001     1     1      1             1           1   \n",
       "18190                 1979     1     1      1             1           1   \n",
       "\n",
       "       resale_price  remaining_lease  \n",
       "15478           249               31  \n",
       "15455           231               31  \n",
       "15475           237               31  \n",
       "15468           237               31  \n",
       "15457           230               31  \n",
       "...             ...              ...  \n",
       "5028              1                1  \n",
       "24750             1                1  \n",
       "24747             1                1  \n",
       "24743             1                1  \n",
       "18190             1                1  \n",
       "\n",
       "[36381 rows x 13 columns]"
      ]
     },
     "execution_count": 5,
     "metadata": {},
     "output_type": "execute_result"
    }
   ],
   "source": [
    "hdb_groupby_blk.nunique(\"date\").reset_index().sort_values(\"date\", ascending = False)"
   ]
  },
  {
   "cell_type": "markdown",
   "id": "88feeb53",
   "metadata": {},
   "source": [
    "### Best Blk: JURONG WEST\t3 ROOM\t211\tBOON LAY PL\t65.0\t1976"
   ]
  },
  {
   "cell_type": "code",
   "execution_count": 6,
   "id": "5fc58d0c",
   "metadata": {},
   "outputs": [
    {
     "data": {
      "text/html": [
       "<div>\n",
       "<style scoped>\n",
       "    .dataframe tbody tr th:only-of-type {\n",
       "        vertical-align: middle;\n",
       "    }\n",
       "\n",
       "    .dataframe tbody tr th {\n",
       "        vertical-align: top;\n",
       "    }\n",
       "\n",
       "    .dataframe thead th {\n",
       "        text-align: right;\n",
       "    }\n",
       "</style>\n",
       "<table border=\"1\" class=\"dataframe\">\n",
       "  <thead>\n",
       "    <tr style=\"text-align: right;\">\n",
       "      <th></th>\n",
       "      <th>date</th>\n",
       "      <th>year</th>\n",
       "      <th>month</th>\n",
       "      <th>town</th>\n",
       "      <th>flat_type</th>\n",
       "      <th>block</th>\n",
       "      <th>street_name</th>\n",
       "      <th>storey_range</th>\n",
       "      <th>floor_area_sqm</th>\n",
       "      <th>flat_model</th>\n",
       "      <th>lease_commence_date</th>\n",
       "      <th>resale_price</th>\n",
       "      <th>remaining_lease</th>\n",
       "    </tr>\n",
       "  </thead>\n",
       "  <tbody>\n",
       "    <tr>\n",
       "      <th>3005</th>\n",
       "      <td>2015-03-01</td>\n",
       "      <td>2015</td>\n",
       "      <td>3</td>\n",
       "      <td>JURONG WEST</td>\n",
       "      <td>3 ROOM</td>\n",
       "      <td>211</td>\n",
       "      <td>BOON LAY PL</td>\n",
       "      <td>01 TO 03</td>\n",
       "      <td>65.0</td>\n",
       "      <td>Improved</td>\n",
       "      <td>1976</td>\n",
       "      <td>262000.0</td>\n",
       "      <td>60</td>\n",
       "    </tr>\n",
       "    <tr>\n",
       "      <th>3010</th>\n",
       "      <td>2015-03-01</td>\n",
       "      <td>2015</td>\n",
       "      <td>3</td>\n",
       "      <td>JURONG WEST</td>\n",
       "      <td>3 ROOM</td>\n",
       "      <td>211</td>\n",
       "      <td>BOON LAY PL</td>\n",
       "      <td>10 TO 12</td>\n",
       "      <td>65.0</td>\n",
       "      <td>Improved</td>\n",
       "      <td>1976</td>\n",
       "      <td>288000.0</td>\n",
       "      <td>60</td>\n",
       "    </tr>\n",
       "    <tr>\n",
       "      <th>3013</th>\n",
       "      <td>2015-03-01</td>\n",
       "      <td>2015</td>\n",
       "      <td>3</td>\n",
       "      <td>JURONG WEST</td>\n",
       "      <td>3 ROOM</td>\n",
       "      <td>211</td>\n",
       "      <td>BOON LAY PL</td>\n",
       "      <td>19 TO 21</td>\n",
       "      <td>65.0</td>\n",
       "      <td>Improved</td>\n",
       "      <td>1976</td>\n",
       "      <td>291800.0</td>\n",
       "      <td>60</td>\n",
       "    </tr>\n",
       "    <tr>\n",
       "      <th>13933</th>\n",
       "      <td>2015-10-01</td>\n",
       "      <td>2015</td>\n",
       "      <td>10</td>\n",
       "      <td>JURONG WEST</td>\n",
       "      <td>3 ROOM</td>\n",
       "      <td>211</td>\n",
       "      <td>BOON LAY PL</td>\n",
       "      <td>13 TO 15</td>\n",
       "      <td>65.0</td>\n",
       "      <td>Improved</td>\n",
       "      <td>1976</td>\n",
       "      <td>260000.0</td>\n",
       "      <td>60</td>\n",
       "    </tr>\n",
       "    <tr>\n",
       "      <th>13941</th>\n",
       "      <td>2015-10-01</td>\n",
       "      <td>2015</td>\n",
       "      <td>10</td>\n",
       "      <td>JURONG WEST</td>\n",
       "      <td>3 ROOM</td>\n",
       "      <td>211</td>\n",
       "      <td>BOON LAY PL</td>\n",
       "      <td>10 TO 12</td>\n",
       "      <td>65.0</td>\n",
       "      <td>Improved</td>\n",
       "      <td>1976</td>\n",
       "      <td>280000.0</td>\n",
       "      <td>60</td>\n",
       "    </tr>\n",
       "    <tr>\n",
       "      <th>...</th>\n",
       "      <td>...</td>\n",
       "      <td>...</td>\n",
       "      <td>...</td>\n",
       "      <td>...</td>\n",
       "      <td>...</td>\n",
       "      <td>...</td>\n",
       "      <td>...</td>\n",
       "      <td>...</td>\n",
       "      <td>...</td>\n",
       "      <td>...</td>\n",
       "      <td>...</td>\n",
       "      <td>...</td>\n",
       "      <td>...</td>\n",
       "    </tr>\n",
       "    <tr>\n",
       "      <th>821480</th>\n",
       "      <td>2014-09-01</td>\n",
       "      <td>2014</td>\n",
       "      <td>9</td>\n",
       "      <td>JURONG WEST</td>\n",
       "      <td>3 ROOM</td>\n",
       "      <td>211</td>\n",
       "      <td>BOON LAY PL</td>\n",
       "      <td>16 TO 18</td>\n",
       "      <td>65.0</td>\n",
       "      <td>Improved</td>\n",
       "      <td>1976</td>\n",
       "      <td>268000.0</td>\n",
       "      <td>61</td>\n",
       "    </tr>\n",
       "    <tr>\n",
       "      <th>821494</th>\n",
       "      <td>2014-09-01</td>\n",
       "      <td>2014</td>\n",
       "      <td>9</td>\n",
       "      <td>JURONG WEST</td>\n",
       "      <td>3 ROOM</td>\n",
       "      <td>211</td>\n",
       "      <td>BOON LAY PL</td>\n",
       "      <td>04 TO 06</td>\n",
       "      <td>65.0</td>\n",
       "      <td>Improved</td>\n",
       "      <td>1976</td>\n",
       "      <td>302000.0</td>\n",
       "      <td>61</td>\n",
       "    </tr>\n",
       "    <tr>\n",
       "      <th>822996</th>\n",
       "      <td>2014-10-01</td>\n",
       "      <td>2014</td>\n",
       "      <td>10</td>\n",
       "      <td>JURONG WEST</td>\n",
       "      <td>3 ROOM</td>\n",
       "      <td>211</td>\n",
       "      <td>BOON LAY PL</td>\n",
       "      <td>10 TO 12</td>\n",
       "      <td>65.0</td>\n",
       "      <td>Improved</td>\n",
       "      <td>1976</td>\n",
       "      <td>292000.0</td>\n",
       "      <td>61</td>\n",
       "    </tr>\n",
       "    <tr>\n",
       "      <th>822998</th>\n",
       "      <td>2014-10-01</td>\n",
       "      <td>2014</td>\n",
       "      <td>10</td>\n",
       "      <td>JURONG WEST</td>\n",
       "      <td>3 ROOM</td>\n",
       "      <td>211</td>\n",
       "      <td>BOON LAY PL</td>\n",
       "      <td>19 TO 21</td>\n",
       "      <td>65.0</td>\n",
       "      <td>Improved</td>\n",
       "      <td>1976</td>\n",
       "      <td>295000.0</td>\n",
       "      <td>61</td>\n",
       "    </tr>\n",
       "    <tr>\n",
       "      <th>825862</th>\n",
       "      <td>2014-12-01</td>\n",
       "      <td>2014</td>\n",
       "      <td>12</td>\n",
       "      <td>JURONG WEST</td>\n",
       "      <td>3 ROOM</td>\n",
       "      <td>211</td>\n",
       "      <td>BOON LAY PL</td>\n",
       "      <td>16 TO 18</td>\n",
       "      <td>65.0</td>\n",
       "      <td>Improved</td>\n",
       "      <td>1976</td>\n",
       "      <td>290000.0</td>\n",
       "      <td>61</td>\n",
       "    </tr>\n",
       "  </tbody>\n",
       "</table>\n",
       "<p>667 rows × 13 columns</p>\n",
       "</div>"
      ],
      "text/plain": [
       "              date  year  month         town flat_type block  street_name  \\\n",
       "3005    2015-03-01  2015      3  JURONG WEST    3 ROOM   211  BOON LAY PL   \n",
       "3010    2015-03-01  2015      3  JURONG WEST    3 ROOM   211  BOON LAY PL   \n",
       "3013    2015-03-01  2015      3  JURONG WEST    3 ROOM   211  BOON LAY PL   \n",
       "13933   2015-10-01  2015     10  JURONG WEST    3 ROOM   211  BOON LAY PL   \n",
       "13941   2015-10-01  2015     10  JURONG WEST    3 ROOM   211  BOON LAY PL   \n",
       "...            ...   ...    ...          ...       ...   ...          ...   \n",
       "821480  2014-09-01  2014      9  JURONG WEST    3 ROOM   211  BOON LAY PL   \n",
       "821494  2014-09-01  2014      9  JURONG WEST    3 ROOM   211  BOON LAY PL   \n",
       "822996  2014-10-01  2014     10  JURONG WEST    3 ROOM   211  BOON LAY PL   \n",
       "822998  2014-10-01  2014     10  JURONG WEST    3 ROOM   211  BOON LAY PL   \n",
       "825862  2014-12-01  2014     12  JURONG WEST    3 ROOM   211  BOON LAY PL   \n",
       "\n",
       "       storey_range  floor_area_sqm flat_model  lease_commence_date  \\\n",
       "3005       01 TO 03            65.0   Improved                 1976   \n",
       "3010       10 TO 12            65.0   Improved                 1976   \n",
       "3013       19 TO 21            65.0   Improved                 1976   \n",
       "13933      13 TO 15            65.0   Improved                 1976   \n",
       "13941      10 TO 12            65.0   Improved                 1976   \n",
       "...             ...             ...        ...                  ...   \n",
       "821480     16 TO 18            65.0   Improved                 1976   \n",
       "821494     04 TO 06            65.0   Improved                 1976   \n",
       "822996     10 TO 12            65.0   Improved                 1976   \n",
       "822998     19 TO 21            65.0   Improved                 1976   \n",
       "825862     16 TO 18            65.0   Improved                 1976   \n",
       "\n",
       "        resale_price  remaining_lease  \n",
       "3005        262000.0               60  \n",
       "3010        288000.0               60  \n",
       "3013        291800.0               60  \n",
       "13933       260000.0               60  \n",
       "13941       280000.0               60  \n",
       "...              ...              ...  \n",
       "821480      268000.0               61  \n",
       "821494      302000.0               61  \n",
       "822996      292000.0               61  \n",
       "822998      295000.0               61  \n",
       "825862      290000.0               61  \n",
       "\n",
       "[667 rows x 13 columns]"
      ]
     },
     "execution_count": 6,
     "metadata": {},
     "output_type": "execute_result"
    }
   ],
   "source": [
    "jurong_211 = hdb[(hdb.town == \"JURONG WEST\") & (hdb.flat_type == \"3 ROOM\") & (hdb.block == \"211\") & (hdb.street_name == \"BOON LAY PL\") & (hdb.floor_area_sqm == 65.0) & (hdb.lease_commence_date == 1976)]\n",
    "jurong_211"
   ]
  },
  {
   "cell_type": "code",
   "execution_count": 7,
   "id": "4a958e40",
   "metadata": {},
   "outputs": [],
   "source": [
    "jurong_211_median = jurong_211.groupby(\"date\").median(\"resale_price\").reset_index()"
   ]
  },
  {
   "cell_type": "code",
   "execution_count": 8,
   "id": "0bf5c966",
   "metadata": {},
   "outputs": [
    {
     "data": {
      "text/html": [
       "<div>\n",
       "<style scoped>\n",
       "    .dataframe tbody tr th:only-of-type {\n",
       "        vertical-align: middle;\n",
       "    }\n",
       "\n",
       "    .dataframe tbody tr th {\n",
       "        vertical-align: top;\n",
       "    }\n",
       "\n",
       "    .dataframe thead th {\n",
       "        text-align: right;\n",
       "    }\n",
       "</style>\n",
       "<table border=\"1\" class=\"dataframe\">\n",
       "  <thead>\n",
       "    <tr style=\"text-align: right;\">\n",
       "      <th></th>\n",
       "      <th>date</th>\n",
       "      <th>year</th>\n",
       "      <th>month</th>\n",
       "      <th>floor_area_sqm</th>\n",
       "      <th>lease_commence_date</th>\n",
       "      <th>resale_price</th>\n",
       "      <th>remaining_lease</th>\n",
       "    </tr>\n",
       "  </thead>\n",
       "  <tbody>\n",
       "    <tr>\n",
       "      <th>0</th>\n",
       "      <td>1990-01-01</td>\n",
       "      <td>1990.0</td>\n",
       "      <td>1.0</td>\n",
       "      <td>65.0</td>\n",
       "      <td>1976.0</td>\n",
       "      <td>25000.0</td>\n",
       "      <td>85.0</td>\n",
       "    </tr>\n",
       "    <tr>\n",
       "      <th>1</th>\n",
       "      <td>1990-02-01</td>\n",
       "      <td>1990.0</td>\n",
       "      <td>2.0</td>\n",
       "      <td>65.0</td>\n",
       "      <td>1976.0</td>\n",
       "      <td>22500.0</td>\n",
       "      <td>85.0</td>\n",
       "    </tr>\n",
       "    <tr>\n",
       "      <th>2</th>\n",
       "      <td>1990-03-01</td>\n",
       "      <td>1990.0</td>\n",
       "      <td>3.0</td>\n",
       "      <td>65.0</td>\n",
       "      <td>1976.0</td>\n",
       "      <td>25000.0</td>\n",
       "      <td>85.0</td>\n",
       "    </tr>\n",
       "    <tr>\n",
       "      <th>3</th>\n",
       "      <td>1990-04-01</td>\n",
       "      <td>1990.0</td>\n",
       "      <td>4.0</td>\n",
       "      <td>65.0</td>\n",
       "      <td>1976.0</td>\n",
       "      <td>29750.0</td>\n",
       "      <td>85.0</td>\n",
       "    </tr>\n",
       "    <tr>\n",
       "      <th>4</th>\n",
       "      <td>1990-05-01</td>\n",
       "      <td>1990.0</td>\n",
       "      <td>5.0</td>\n",
       "      <td>65.0</td>\n",
       "      <td>1976.0</td>\n",
       "      <td>30000.0</td>\n",
       "      <td>85.0</td>\n",
       "    </tr>\n",
       "    <tr>\n",
       "      <th>...</th>\n",
       "      <td>...</td>\n",
       "      <td>...</td>\n",
       "      <td>...</td>\n",
       "      <td>...</td>\n",
       "      <td>...</td>\n",
       "      <td>...</td>\n",
       "      <td>...</td>\n",
       "    </tr>\n",
       "    <tr>\n",
       "      <th>279</th>\n",
       "      <td>2019-11-01</td>\n",
       "      <td>2019.0</td>\n",
       "      <td>11.0</td>\n",
       "      <td>65.0</td>\n",
       "      <td>1976.0</td>\n",
       "      <td>217000.0</td>\n",
       "      <td>56.0</td>\n",
       "    </tr>\n",
       "    <tr>\n",
       "      <th>280</th>\n",
       "      <td>2020-02-01</td>\n",
       "      <td>2020.0</td>\n",
       "      <td>2.0</td>\n",
       "      <td>65.0</td>\n",
       "      <td>1976.0</td>\n",
       "      <td>210000.0</td>\n",
       "      <td>55.0</td>\n",
       "    </tr>\n",
       "    <tr>\n",
       "      <th>281</th>\n",
       "      <td>2020-07-01</td>\n",
       "      <td>2020.0</td>\n",
       "      <td>7.0</td>\n",
       "      <td>65.0</td>\n",
       "      <td>1976.0</td>\n",
       "      <td>230000.0</td>\n",
       "      <td>55.0</td>\n",
       "    </tr>\n",
       "    <tr>\n",
       "      <th>282</th>\n",
       "      <td>2020-08-01</td>\n",
       "      <td>2020.0</td>\n",
       "      <td>8.0</td>\n",
       "      <td>65.0</td>\n",
       "      <td>1976.0</td>\n",
       "      <td>225000.0</td>\n",
       "      <td>55.0</td>\n",
       "    </tr>\n",
       "    <tr>\n",
       "      <th>283</th>\n",
       "      <td>2020-09-01</td>\n",
       "      <td>2020.0</td>\n",
       "      <td>9.0</td>\n",
       "      <td>65.0</td>\n",
       "      <td>1976.0</td>\n",
       "      <td>250000.0</td>\n",
       "      <td>55.0</td>\n",
       "    </tr>\n",
       "  </tbody>\n",
       "</table>\n",
       "<p>284 rows × 7 columns</p>\n",
       "</div>"
      ],
      "text/plain": [
       "           date    year  month  floor_area_sqm  lease_commence_date  \\\n",
       "0    1990-01-01  1990.0    1.0            65.0               1976.0   \n",
       "1    1990-02-01  1990.0    2.0            65.0               1976.0   \n",
       "2    1990-03-01  1990.0    3.0            65.0               1976.0   \n",
       "3    1990-04-01  1990.0    4.0            65.0               1976.0   \n",
       "4    1990-05-01  1990.0    5.0            65.0               1976.0   \n",
       "..          ...     ...    ...             ...                  ...   \n",
       "279  2019-11-01  2019.0   11.0            65.0               1976.0   \n",
       "280  2020-02-01  2020.0    2.0            65.0               1976.0   \n",
       "281  2020-07-01  2020.0    7.0            65.0               1976.0   \n",
       "282  2020-08-01  2020.0    8.0            65.0               1976.0   \n",
       "283  2020-09-01  2020.0    9.0            65.0               1976.0   \n",
       "\n",
       "     resale_price  remaining_lease  \n",
       "0         25000.0             85.0  \n",
       "1         22500.0             85.0  \n",
       "2         25000.0             85.0  \n",
       "3         29750.0             85.0  \n",
       "4         30000.0             85.0  \n",
       "..            ...              ...  \n",
       "279      217000.0             56.0  \n",
       "280      210000.0             55.0  \n",
       "281      230000.0             55.0  \n",
       "282      225000.0             55.0  \n",
       "283      250000.0             55.0  \n",
       "\n",
       "[284 rows x 7 columns]"
      ]
     },
     "execution_count": 8,
     "metadata": {},
     "output_type": "execute_result"
    }
   ],
   "source": [
    "jurong_211_median"
   ]
  },
  {
   "cell_type": "code",
   "execution_count": 9,
   "id": "1da48bf8",
   "metadata": {},
   "outputs": [],
   "source": [
    "jurong_211_median_drop = pd.DataFrame({\"Month\":jurong_211_median.date, \"resale_price\":jurong_211_median.resale_price})"
   ]
  },
  {
   "cell_type": "markdown",
   "id": "87107bda",
   "metadata": {},
   "source": [
    "### Save jurong_211 to csv"
   ]
  },
  {
   "cell_type": "code",
   "execution_count": 10,
   "id": "4a008860",
   "metadata": {},
   "outputs": [],
   "source": [
    "jurong_211_median_drop.to_csv(\"jurong_211.csv\", index = False)"
   ]
  },
  {
   "cell_type": "markdown",
   "id": "67c920dd",
   "metadata": {},
   "source": [
    "# Start of ARIMA"
   ]
  },
  {
   "cell_type": "markdown",
   "id": "8121885f",
   "metadata": {},
   "source": [
    "## ARIMA 3 Parameters\n",
    "\n",
    "p: the number of lag observations in the model; also known as the lag order.\n",
    "\n",
    "d: the number of times that the raw observations are differenced; also known as the degree of differencing.\n",
    "\n",
    "q: the size of the moving average window; also known as the order of the moving average.\n",
    "\n",
    "source: https://www.investopedia.com/terms/a/autoregressive-integrated-moving-average-arima.asp#:~:text=An%20autoregressive%20integrated%20moving%20average%2C%20or%20ARIMA%2C%20is%20a%20statistical,values%20based%20on%20past%20values."
   ]
  },
  {
   "cell_type": "markdown",
   "id": "7e66f340",
   "metadata": {},
   "source": [
    "## Load DF"
   ]
  },
  {
   "cell_type": "code",
   "execution_count": 44,
   "id": "ca6520a3",
   "metadata": {},
   "outputs": [
    {
     "data": {
      "text/html": [
       "<div>\n",
       "<style scoped>\n",
       "    .dataframe tbody tr th:only-of-type {\n",
       "        vertical-align: middle;\n",
       "    }\n",
       "\n",
       "    .dataframe tbody tr th {\n",
       "        vertical-align: top;\n",
       "    }\n",
       "\n",
       "    .dataframe thead th {\n",
       "        text-align: right;\n",
       "    }\n",
       "</style>\n",
       "<table border=\"1\" class=\"dataframe\">\n",
       "  <thead>\n",
       "    <tr style=\"text-align: right;\">\n",
       "      <th></th>\n",
       "      <th>resale_price</th>\n",
       "    </tr>\n",
       "    <tr>\n",
       "      <th>Month</th>\n",
       "      <th></th>\n",
       "    </tr>\n",
       "  </thead>\n",
       "  <tbody>\n",
       "    <tr>\n",
       "      <th>1990-01-01</th>\n",
       "      <td>25000.0</td>\n",
       "    </tr>\n",
       "    <tr>\n",
       "      <th>1990-02-01</th>\n",
       "      <td>22500.0</td>\n",
       "    </tr>\n",
       "    <tr>\n",
       "      <th>1990-03-01</th>\n",
       "      <td>25000.0</td>\n",
       "    </tr>\n",
       "    <tr>\n",
       "      <th>1990-04-01</th>\n",
       "      <td>29750.0</td>\n",
       "    </tr>\n",
       "    <tr>\n",
       "      <th>1990-05-01</th>\n",
       "      <td>30000.0</td>\n",
       "    </tr>\n",
       "    <tr>\n",
       "      <th>...</th>\n",
       "      <td>...</td>\n",
       "    </tr>\n",
       "    <tr>\n",
       "      <th>2019-11-01</th>\n",
       "      <td>217000.0</td>\n",
       "    </tr>\n",
       "    <tr>\n",
       "      <th>2020-02-01</th>\n",
       "      <td>210000.0</td>\n",
       "    </tr>\n",
       "    <tr>\n",
       "      <th>2020-07-01</th>\n",
       "      <td>230000.0</td>\n",
       "    </tr>\n",
       "    <tr>\n",
       "      <th>2020-08-01</th>\n",
       "      <td>225000.0</td>\n",
       "    </tr>\n",
       "    <tr>\n",
       "      <th>2020-09-01</th>\n",
       "      <td>250000.0</td>\n",
       "    </tr>\n",
       "  </tbody>\n",
       "</table>\n",
       "<p>284 rows × 1 columns</p>\n",
       "</div>"
      ],
      "text/plain": [
       "            resale_price\n",
       "Month                   \n",
       "1990-01-01       25000.0\n",
       "1990-02-01       22500.0\n",
       "1990-03-01       25000.0\n",
       "1990-04-01       29750.0\n",
       "1990-05-01       30000.0\n",
       "...                  ...\n",
       "2019-11-01      217000.0\n",
       "2020-02-01      210000.0\n",
       "2020-07-01      230000.0\n",
       "2020-08-01      225000.0\n",
       "2020-09-01      250000.0\n",
       "\n",
       "[284 rows x 1 columns]"
      ]
     },
     "execution_count": 44,
     "metadata": {},
     "output_type": "execute_result"
    }
   ],
   "source": [
    "df = pd.read_csv(\"jurong_211.csv\", index_col=\"month\", parse_dates=True)\n",
    "df"
   ]
  },
  {
   "cell_type": "code",
   "execution_count": 45,
   "id": "1f0df5bb",
   "metadata": {},
   "outputs": [
    {
     "name": "stdout",
     "output_type": "stream",
     "text": [
      "<class 'pandas.core.frame.DataFrame'>\n",
      "DatetimeIndex: 284 entries, 1990-01-01 to 2020-09-01\n",
      "Data columns (total 1 columns):\n",
      " #   Column        Non-Null Count  Dtype  \n",
      "---  ------        --------------  -----  \n",
      " 0   resale_price  284 non-null    float64\n",
      "dtypes: float64(1)\n",
      "memory usage: 4.4 KB\n"
     ]
    }
   ],
   "source": [
    "df.info()"
   ]
  },
  {
   "cell_type": "code",
   "execution_count": 46,
   "id": "829be3f3",
   "metadata": {},
   "outputs": [
    {
     "data": {
      "text/plain": [
       "Month\n",
       "1990    12\n",
       "1991    11\n",
       "1992     9\n",
       "1993    11\n",
       "1994    12\n",
       "1995    11\n",
       "1996    12\n",
       "1997    12\n",
       "1998    11\n",
       "1999    11\n",
       "2000     9\n",
       "2001     9\n",
       "2002     6\n",
       "2003    10\n",
       "2004    11\n",
       "2005    10\n",
       "2006    10\n",
       "2007     9\n",
       "2008    10\n",
       "2009    10\n",
       "2010    11\n",
       "2011     8\n",
       "2012     9\n",
       "2013     7\n",
       "2014     8\n",
       "2015     3\n",
       "2016     6\n",
       "2017     8\n",
       "2018     8\n",
       "2019     6\n",
       "2020     4\n",
       "dtype: int64"
      ]
     },
     "execution_count": 46,
     "metadata": {},
     "output_type": "execute_result"
    }
   ],
   "source": [
    "df.groupby(df.index.year).size()"
   ]
  },
  {
   "cell_type": "markdown",
   "id": "00b87046",
   "metadata": {},
   "source": [
    "There is a lot of missing data, for ARIMA to be a good predictor we need to more data"
   ]
  },
  {
   "cell_type": "markdown",
   "id": "abb50753",
   "metadata": {},
   "source": [
    "## Fill missing data"
   ]
  },
  {
   "cell_type": "code",
   "execution_count": 47,
   "id": "4a2aa1bd",
   "metadata": {},
   "outputs": [
    {
     "name": "stdout",
     "output_type": "stream",
     "text": [
      "1990-01-01 00:00:00\n",
      "2020-09-01 00:00:00\n"
     ]
    }
   ],
   "source": [
    "from datetime import datetime\n",
    "from dateutil import relativedelta\n",
    "datetime_object = datetime.strptime(\"1990-01-01\", \"%Y-%m-%d\")\n",
    "datetime_object += relativedelta.relativedelta(months=32)\n",
    "pd.to_datetime(datetime_object)\n",
    "\n",
    "def to_dt(date_string):\n",
    "    return datetime.strptime(str(date_string)[:10], \"%Y-%m-%d\")\n",
    "\n",
    "def to_pd_dt(date_string):\n",
    "    return pd.to_datetime(str(date_string)[:10])\n",
    "\n",
    "date = to_dt(df.index[0])\n",
    "print(date)\n",
    "end_date = to_dt(df.index[-1])\n",
    "while(date < end_date):\n",
    "#     print(date)\n",
    "    try:\n",
    "        df.loc[to_pd_dt(date)]\n",
    "        date += relativedelta.relativedelta(months=1)\n",
    "    except KeyError:\n",
    "        a = df.loc[to_pd_dt(date - relativedelta.relativedelta(months=1))][\"resale_price\"]\n",
    "        date_i = date + relativedelta.relativedelta(months=1)\n",
    "        count = 1\n",
    "        while count < 10:\n",
    "            try:\n",
    "                df.loc[to_pd_dt(date_i)]\n",
    "                break\n",
    "            except KeyError:\n",
    "                count += 1\n",
    "            date_i += relativedelta.relativedelta(months=1)\n",
    "        \n",
    "        \n",
    "        b = df.loc[to_pd_dt(date_i)][\"resale_price\"]\n",
    "        diff = b-a\n",
    "        incre = diff/(count+1)\n",
    "        while (count > 0):\n",
    "            a += incre\n",
    "            df.loc[to_pd_dt(date)] = a\n",
    "            count -= 1\n",
    "            date += relativedelta.relativedelta(months=1)\n",
    "print(date)\n",
    "# while()\n",
    "\n",
    "# for year in range(1990,2020+1):\n",
    "#     for month in range(1,12+1):\n",
    "#         try:\n",
    "#             df.loc[pd.to_datetime(f'{year}-{month:}-01')]\n",
    "#         except KeyError:\n",
    "#             df.loc[pd.to_datetime(f'{year}-{month:}-01')] = None"
   ]
  },
  {
   "cell_type": "code",
   "execution_count": 48,
   "id": "1da67fa3",
   "metadata": {},
   "outputs": [
    {
     "name": "stdout",
     "output_type": "stream",
     "text": [
      "<class 'pandas.core.frame.DataFrame'>\n",
      "DatetimeIndex: 369 entries, 1990-01-01 to 2020-06-01\n",
      "Data columns (total 1 columns):\n",
      " #   Column        Non-Null Count  Dtype  \n",
      "---  ------        --------------  -----  \n",
      " 0   resale_price  369 non-null    float64\n",
      "dtypes: float64(1)\n",
      "memory usage: 13.9 KB\n"
     ]
    }
   ],
   "source": [
    "df.info()"
   ]
  },
  {
   "cell_type": "code",
   "execution_count": 50,
   "id": "abf85ef0",
   "metadata": {},
   "outputs": [
    {
     "data": {
      "text/html": [
       "<div>\n",
       "<style scoped>\n",
       "    .dataframe tbody tr th:only-of-type {\n",
       "        vertical-align: middle;\n",
       "    }\n",
       "\n",
       "    .dataframe tbody tr th {\n",
       "        vertical-align: top;\n",
       "    }\n",
       "\n",
       "    .dataframe thead th {\n",
       "        text-align: right;\n",
       "    }\n",
       "</style>\n",
       "<table border=\"1\" class=\"dataframe\">\n",
       "  <thead>\n",
       "    <tr style=\"text-align: right;\">\n",
       "      <th></th>\n",
       "      <th>resale_price</th>\n",
       "    </tr>\n",
       "    <tr>\n",
       "      <th>Month</th>\n",
       "      <th></th>\n",
       "    </tr>\n",
       "  </thead>\n",
       "  <tbody>\n",
       "    <tr>\n",
       "      <th>1990-01-01</th>\n",
       "      <td>25000.0</td>\n",
       "    </tr>\n",
       "    <tr>\n",
       "      <th>1990-02-01</th>\n",
       "      <td>22500.0</td>\n",
       "    </tr>\n",
       "    <tr>\n",
       "      <th>1990-03-01</th>\n",
       "      <td>25000.0</td>\n",
       "    </tr>\n",
       "    <tr>\n",
       "      <th>1990-04-01</th>\n",
       "      <td>29750.0</td>\n",
       "    </tr>\n",
       "    <tr>\n",
       "      <th>1990-05-01</th>\n",
       "      <td>30000.0</td>\n",
       "    </tr>\n",
       "    <tr>\n",
       "      <th>...</th>\n",
       "      <td>...</td>\n",
       "    </tr>\n",
       "    <tr>\n",
       "      <th>2020-05-01</th>\n",
       "      <td>222000.0</td>\n",
       "    </tr>\n",
       "    <tr>\n",
       "      <th>2020-06-01</th>\n",
       "      <td>226000.0</td>\n",
       "    </tr>\n",
       "    <tr>\n",
       "      <th>2020-07-01</th>\n",
       "      <td>230000.0</td>\n",
       "    </tr>\n",
       "    <tr>\n",
       "      <th>2020-08-01</th>\n",
       "      <td>225000.0</td>\n",
       "    </tr>\n",
       "    <tr>\n",
       "      <th>2020-09-01</th>\n",
       "      <td>250000.0</td>\n",
       "    </tr>\n",
       "  </tbody>\n",
       "</table>\n",
       "<p>369 rows × 1 columns</p>\n",
       "</div>"
      ],
      "text/plain": [
       "            resale_price\n",
       "Month                   \n",
       "1990-01-01       25000.0\n",
       "1990-02-01       22500.0\n",
       "1990-03-01       25000.0\n",
       "1990-04-01       29750.0\n",
       "1990-05-01       30000.0\n",
       "...                  ...\n",
       "2020-05-01      222000.0\n",
       "2020-06-01      226000.0\n",
       "2020-07-01      230000.0\n",
       "2020-08-01      225000.0\n",
       "2020-09-01      250000.0\n",
       "\n",
       "[369 rows x 1 columns]"
      ]
     },
     "execution_count": 50,
     "metadata": {},
     "output_type": "execute_result"
    }
   ],
   "source": [
    "df = df.sort_index(ascending = True)\n",
    "df"
   ]
  },
  {
   "cell_type": "code",
   "execution_count": 51,
   "id": "32213fd9",
   "metadata": {},
   "outputs": [
    {
     "data": {
      "text/plain": [
       "Month\n",
       "1990    12\n",
       "1991    12\n",
       "1992    12\n",
       "1993    12\n",
       "1994    12\n",
       "1995    12\n",
       "1996    12\n",
       "1997    12\n",
       "1998    12\n",
       "1999    12\n",
       "2000    12\n",
       "2001    12\n",
       "2002    12\n",
       "2003    12\n",
       "2004    12\n",
       "2005    12\n",
       "2006    12\n",
       "2007    12\n",
       "2008    12\n",
       "2009    12\n",
       "2010    12\n",
       "2011    12\n",
       "2012    12\n",
       "2013    12\n",
       "2014    12\n",
       "2015    12\n",
       "2016    12\n",
       "2017    12\n",
       "2018    12\n",
       "2019    12\n",
       "2020     9\n",
       "dtype: int64"
      ]
     },
     "execution_count": 51,
     "metadata": {},
     "output_type": "execute_result"
    }
   ],
   "source": [
    "df.groupby(df.index.year).size()"
   ]
  },
  {
   "cell_type": "markdown",
   "id": "41da07a4",
   "metadata": {},
   "source": [
    "All data for each year is filled by left and right bound increment\n",
    "\n",
    "2020 Data stops at 2020-09"
   ]
  },
  {
   "cell_type": "markdown",
   "id": "92a2bfc1",
   "metadata": {},
   "source": [
    "## PD vs Py datetime Testing (To be removed)"
   ]
  },
  {
   "cell_type": "markdown",
   "id": "73708dba",
   "metadata": {},
   "source": [
    "Why must pandas and python have 2 different classes for datetime T-T"
   ]
  },
  {
   "cell_type": "code",
   "execution_count": 20,
   "id": "e6a09339",
   "metadata": {},
   "outputs": [
    {
     "ename": "NameError",
     "evalue": "name 'year' is not defined",
     "output_type": "error",
     "traceback": [
      "\u001b[0;31m---------------------------------------------------------------------------\u001b[0m",
      "\u001b[0;31mNameError\u001b[0m                                 Traceback (most recent call last)",
      "\u001b[0;32m/var/folders/kb/12q6c4tj5ll7tcw5jt9kszt40000gn/T/ipykernel_47637/3276626161.py\u001b[0m in \u001b[0;36m<module>\u001b[0;34m\u001b[0m\n\u001b[0;32m----> 1\u001b[0;31m \u001b[0mpd\u001b[0m\u001b[0;34m.\u001b[0m\u001b[0mto_datetime\u001b[0m\u001b[0;34m(\u001b[0m\u001b[0;34mf'{year}-{month:}-01'\u001b[0m\u001b[0;34m)\u001b[0m\u001b[0;34m\u001b[0m\u001b[0;34m\u001b[0m\u001b[0m\n\u001b[0m",
      "\u001b[0;31mNameError\u001b[0m: name 'year' is not defined"
     ]
    }
   ],
   "source": [
    "pd.to_datetime(f'{year}-{month:}-01')"
   ]
  },
  {
   "cell_type": "code",
   "execution_count": 376,
   "id": "4c582e18",
   "metadata": {},
   "outputs": [
    {
     "data": {
      "text/plain": [
       "Timestamp('1992-09-01 00:00:00')"
      ]
     },
     "execution_count": 376,
     "metadata": {},
     "output_type": "execute_result"
    }
   ],
   "source": [
    "from datetime import datetime\n",
    "from dateutil import relativedelta\n",
    "datetime_object = datetime.strptime(\"1990-01-01\", \"%Y-%m-%d\")\n",
    "datetime_object += relativedelta.relativedelta(months=32)\n",
    "pd.to_datetime(datetime_object)"
   ]
  },
  {
   "cell_type": "code",
   "execution_count": 292,
   "id": "3eda272e",
   "metadata": {},
   "outputs": [
    {
     "data": {
      "text/plain": [
       "pandas._libs.tslibs.timestamps.Timestamp"
      ]
     },
     "execution_count": 292,
     "metadata": {},
     "output_type": "execute_result"
    }
   ],
   "source": [
    "type(df.iloc[-1].name)"
   ]
  },
  {
   "cell_type": "code",
   "execution_count": 293,
   "id": "43f3b5e9",
   "metadata": {},
   "outputs": [
    {
     "ename": "AttributeError",
     "evalue": "'Timestamp' object has no attribute 'timedelta'",
     "output_type": "error",
     "traceback": [
      "\u001b[0;31m---------------------------------------------------------------------------\u001b[0m",
      "\u001b[0;31mAttributeError\u001b[0m                            Traceback (most recent call last)",
      "\u001b[0;32m/var/folders/kb/12q6c4tj5ll7tcw5jt9kszt40000gn/T/ipykernel_32680/2082797350.py\u001b[0m in \u001b[0;36m<module>\u001b[0;34m\u001b[0m\n\u001b[0;32m----> 1\u001b[0;31m \u001b[0mdf\u001b[0m\u001b[0;34m.\u001b[0m\u001b[0miloc\u001b[0m\u001b[0;34m[\u001b[0m\u001b[0;34m-\u001b[0m\u001b[0;36m1\u001b[0m\u001b[0;34m]\u001b[0m\u001b[0;34m.\u001b[0m\u001b[0mname\u001b[0m\u001b[0;34m.\u001b[0m\u001b[0mtimedelta\u001b[0m\u001b[0;34m(\u001b[0m\u001b[0mdays\u001b[0m\u001b[0;34m=\u001b[0m\u001b[0;36m5\u001b[0m\u001b[0;34m)\u001b[0m\u001b[0;34m\u001b[0m\u001b[0;34m\u001b[0m\u001b[0m\n\u001b[0m",
      "\u001b[0;31mAttributeError\u001b[0m: 'Timestamp' object has no attribute 'timedelta'"
     ]
    }
   ],
   "source": [
    "df.iloc[-1].name.timedelta(days=5)"
   ]
  },
  {
   "cell_type": "markdown",
   "id": "92ef3e6c",
   "metadata": {},
   "source": [
    "## Obtaining d value"
   ]
  },
  {
   "cell_type": "code",
   "execution_count": 52,
   "id": "6385dead",
   "metadata": {},
   "outputs": [
    {
     "data": {
      "image/png": "[encoded data removed]",
      "text/plain": [
       "<Figure size 720x432 with 6 Axes>"
      ]
     },
     "metadata": {
      "needs_background": "light"
     },
     "output_type": "display_data"
    }
   ],
   "source": [
    "from statsmodels.graphics.tsaplots import plot_acf, plot_pacf\n",
    "# Original Series\n",
    "fig, axes = plt.subplots(3, 2, sharex=True)\n",
    "axes[0, 0].plot(df); axes[0, 0].set_title('Original Series')\n",
    "plot_acf(df, ax=axes[0, 1])\n",
    "\n",
    "# 1st Differencing\n",
    "axes[1, 0].plot(df.diff()); axes[1, 0].set_title('1st Order Differencing')\n",
    "plot_acf(df.diff().dropna(), ax=axes[1, 1])\n",
    "\n",
    "# 2nd Differencing\n",
    "axes[2, 0].plot(df.diff().diff()); axes[2, 0].set_title('2nd Order Differencing')\n",
    "plot_acf(df.diff().diff().dropna(), ax=axes[2, 1])\n",
    "\n",
    "plt.show()"
   ]
  },
  {
   "cell_type": "markdown",
   "id": "f07f0c53",
   "metadata": {},
   "source": [
    "d value 1 is good, d value 2 might be over differentiating alr (bad model)"
   ]
  },
  {
   "cell_type": "markdown",
   "id": "5d6adc25",
   "metadata": {},
   "source": [
    "## Old ARIMA module"
   ]
  },
  {
   "cell_type": "markdown",
   "id": "9a259d29",
   "metadata": {},
   "source": [
    "idk how to use the new module cos most guides online are using the old model but its going to be deprecated soon"
   ]
  },
  {
   "cell_type": "markdown",
   "id": "cd8dd736",
   "metadata": {},
   "source": [
    "### p value = 1 not very good prediction (almost like linear)"
   ]
  },
  {
   "cell_type": "code",
   "execution_count": 64,
   "id": "92afcca8",
   "metadata": {},
   "outputs": [
    {
     "name": "stderr",
     "output_type": "stream",
     "text": [
      "/Users/bryan/opt/anaconda3/lib/python3.9/site-packages/statsmodels/tsa/arima_model.py:472: FutureWarning: \n",
      "statsmodels.tsa.arima_model.ARMA and statsmodels.tsa.arima_model.ARIMA have\n",
      "been deprecated in favor of statsmodels.tsa.arima.model.ARIMA (note the .\n",
      "between arima and model) and\n",
      "statsmodels.tsa.SARIMAX. These will be removed after the 0.12 release.\n",
      "\n",
      "statsmodels.tsa.arima.model.ARIMA makes use of the statespace framework and\n",
      "is both well tested and maintained.\n",
      "\n",
      "To silence this warning and continue using ARMA and ARIMA until they are\n",
      "removed, use:\n",
      "\n",
      "import warnings\n",
      "warnings.filterwarnings('ignore', 'statsmodels.tsa.arima_model.ARMA',\n",
      "                        FutureWarning)\n",
      "warnings.filterwarnings('ignore', 'statsmodels.tsa.arima_model.ARIMA',\n",
      "                        FutureWarning)\n",
      "\n",
      "  warnings.warn(ARIMA_DEPRECATION_WARN, FutureWarning)\n",
      "/Users/bryan/opt/anaconda3/lib/python3.9/site-packages/statsmodels/tsa/base/tsa_model.py:524: ValueWarning: No frequency information was provided, so inferred frequency MS will be used.\n",
      "  warnings.warn('No frequency information was'\n",
      "/Users/bryan/opt/anaconda3/lib/python3.9/site-packages/statsmodels/tsa/base/tsa_model.py:524: ValueWarning: No frequency information was provided, so inferred frequency MS will be used.\n",
      "  warnings.warn('No frequency information was'\n",
      "/Users/bryan/opt/anaconda3/lib/python3.9/site-packages/statsmodels/tsa/base/tsa_model.py:132: FutureWarning: The 'freq' argument in Timestamp is deprecated and will be removed in a future version.\n",
      "  date_key = Timestamp(key, freq=base_index.freq)\n"
     ]
    },
    {
     "data": {
      "image/png": "[encoded data removed]",
      "text/plain": [
       "<Figure size 720x432 with 1 Axes>"
      ]
     },
     "metadata": {
      "needs_background": "light"
     },
     "output_type": "display_data"
    }
   ],
   "source": [
    "from statsmodels.tsa.arima_model import ARIMA\n",
    "len(df)\n",
    "model = ARIMA(df, order=(1,1,1))\n",
    "model_fit = model.fit(disp=0)\n",
    "model_fit.plot_predict(end = '2023', alpha = 0.2)\n",
    "plt.show()"
   ]
  },
  {
   "cell_type": "markdown",
   "id": "9228e0d6",
   "metadata": {},
   "source": [
    "### p value = 21 not bad but quite slow"
   ]
  },
  {
   "cell_type": "code",
   "execution_count": 54,
   "id": "222b6613",
   "metadata": {},
   "outputs": [
    {
     "name": "stderr",
     "output_type": "stream",
     "text": [
      "/Users/bryan/opt/anaconda3/lib/python3.9/site-packages/statsmodels/tsa/arima_model.py:472: FutureWarning: \n",
      "statsmodels.tsa.arima_model.ARMA and statsmodels.tsa.arima_model.ARIMA have\n",
      "been deprecated in favor of statsmodels.tsa.arima.model.ARIMA (note the .\n",
      "between arima and model) and\n",
      "statsmodels.tsa.SARIMAX. These will be removed after the 0.12 release.\n",
      "\n",
      "statsmodels.tsa.arima.model.ARIMA makes use of the statespace framework and\n",
      "is both well tested and maintained.\n",
      "\n",
      "To silence this warning and continue using ARMA and ARIMA until they are\n",
      "removed, use:\n",
      "\n",
      "import warnings\n",
      "warnings.filterwarnings('ignore', 'statsmodels.tsa.arima_model.ARMA',\n",
      "                        FutureWarning)\n",
      "warnings.filterwarnings('ignore', 'statsmodels.tsa.arima_model.ARIMA',\n",
      "                        FutureWarning)\n",
      "\n",
      "  warnings.warn(ARIMA_DEPRECATION_WARN, FutureWarning)\n",
      "/Users/bryan/opt/anaconda3/lib/python3.9/site-packages/statsmodels/tsa/base/tsa_model.py:524: ValueWarning: No frequency information was provided, so inferred frequency MS will be used.\n",
      "  warnings.warn('No frequency information was'\n",
      "/Users/bryan/opt/anaconda3/lib/python3.9/site-packages/statsmodels/tsa/base/tsa_model.py:524: ValueWarning: No frequency information was provided, so inferred frequency MS will be used.\n",
      "  warnings.warn('No frequency information was'\n",
      "/Users/bryan/opt/anaconda3/lib/python3.9/site-packages/statsmodels/tsa/base/tsa_model.py:132: FutureWarning: The 'freq' argument in Timestamp is deprecated and will be removed in a future version.\n",
      "  date_key = Timestamp(key, freq=base_index.freq)\n"
     ]
    },
    {
     "data": {
      "image/png": "[encoded data removed]",
      "text/plain": [
       "<Figure size 720x432 with 1 Axes>"
      ]
     },
     "metadata": {
      "needs_background": "light"
     },
     "output_type": "display_data"
    }
   ],
   "source": [
    "from statsmodels.tsa.arima_model import ARIMA\n",
    "\n",
    "model = ARIMA(df, order=(21,1,1))\n",
    "model_fit = model.fit(disp=0)\n",
    "model_fit.plot_predict(end='2023')\n",
    "plt.show()"
   ]
  },
  {
   "cell_type": "markdown",
   "id": "a7e19702",
   "metadata": {},
   "source": [
    "# DO NOT USE P VALUE MORE THAN 30 \n",
    "Its too computationally expensive (rip laptop)"
   ]
  },
  {
   "cell_type": "code",
   "execution_count": 37,
   "id": "222131b6",
   "metadata": {},
   "outputs": [
    {
     "name": "stderr",
     "output_type": "stream",
     "text": [
      "/Users/bryan/opt/anaconda3/lib/python3.9/site-packages/statsmodels/tsa/arima_model.py:472: FutureWarning: \n",
      "statsmodels.tsa.arima_model.ARMA and statsmodels.tsa.arima_model.ARIMA have\n",
      "been deprecated in favor of statsmodels.tsa.arima.model.ARIMA (note the .\n",
      "between arima and model) and\n",
      "statsmodels.tsa.SARIMAX. These will be removed after the 0.12 release.\n",
      "\n",
      "statsmodels.tsa.arima.model.ARIMA makes use of the statespace framework and\n",
      "is both well tested and maintained.\n",
      "\n",
      "To silence this warning and continue using ARMA and ARIMA until they are\n",
      "removed, use:\n",
      "\n",
      "import warnings\n",
      "warnings.filterwarnings('ignore', 'statsmodels.tsa.arima_model.ARMA',\n",
      "                        FutureWarning)\n",
      "warnings.filterwarnings('ignore', 'statsmodels.tsa.arima_model.ARIMA',\n",
      "                        FutureWarning)\n",
      "\n",
      "  warnings.warn(ARIMA_DEPRECATION_WARN, FutureWarning)\n",
      "/Users/bryan/opt/anaconda3/lib/python3.9/site-packages/statsmodels/tsa/base/tsa_model.py:524: ValueWarning: No frequency information was provided, so inferred frequency MS will be used.\n",
      "  warnings.warn('No frequency information was'\n",
      "/Users/bryan/opt/anaconda3/lib/python3.9/site-packages/statsmodels/tsa/base/tsa_model.py:524: ValueWarning: No frequency information was provided, so inferred frequency MS will be used.\n",
      "  warnings.warn('No frequency information was'\n",
      "/Users/bryan/opt/anaconda3/lib/python3.9/site-packages/statsmodels/tsa/base/tsa_model.py:132: FutureWarning: The 'freq' argument in Timestamp is deprecated and will be removed in a future version.\n",
      "  date_key = Timestamp(key, freq=base_index.freq)\n"
     ]
    },
    {
     "data": {
      "image/png": "[encoded data removed]",
      "text/plain": [
       "<Figure size 720x432 with 1 Axes>"
      ]
     },
     "metadata": {
      "needs_background": "light"
     },
     "output_type": "display_data"
    }
   ],
   "source": [
    "from statsmodels.tsa.arima_model import ARIMA\n",
    "\n",
    "model = ARIMA(df, order=(30,1,1))\n",
    "model_fit = model.fit(disp=0)\n",
    "model_fit.plot_predict(end='2022')\n",
    "plt.show()"
   ]
  },
  {
   "cell_type": "markdown",
   "id": "851e4c00",
   "metadata": {},
   "source": [
    "## Extract prediction to conduction prediction accuracy"
   ]
  },
  {
   "cell_type": "code",
   "execution_count": 51,
   "id": "f99f4239",
   "metadata": {},
   "outputs": [
    {
     "name": "stderr",
     "output_type": "stream",
     "text": [
      "/Users/bryan/opt/anaconda3/lib/python3.9/site-packages/statsmodels/tsa/base/tsa_model.py:524: ValueWarning: No frequency information was provided, so inferred frequency MS will be used.\n",
      "  warnings.warn('No frequency information was'\n",
      "/Users/bryan/opt/anaconda3/lib/python3.9/site-packages/statsmodels/tsa/base/tsa_model.py:524: ValueWarning: No frequency information was provided, so inferred frequency MS will be used.\n",
      "  warnings.warn('No frequency information was'\n",
      "/Users/bryan/opt/anaconda3/lib/python3.9/site-packages/statsmodels/tsa/base/tsa_model.py:524: ValueWarning: No frequency information was provided, so inferred frequency MS will be used.\n",
      "  warnings.warn('No frequency information was'\n"
     ]
    },
    {
     "ename": "TypeError",
     "evalue": "predict() missing 1 required positional argument: 'params'",
     "output_type": "error",
     "traceback": [
      "\u001b[0;31m---------------------------------------------------------------------------\u001b[0m",
      "\u001b[0;31mTypeError\u001b[0m                                 Traceback (most recent call last)",
      "\u001b[0;32m/var/folders/kb/12q6c4tj5ll7tcw5jt9kszt40000gn/T/ipykernel_44460/3830610179.py\u001b[0m in \u001b[0;36m<module>\u001b[0;34m\u001b[0m\n\u001b[1;32m      3\u001b[0m \u001b[0mlen\u001b[0m\u001b[0;34m(\u001b[0m\u001b[0mdf\u001b[0m\u001b[0;34m)\u001b[0m\u001b[0;34m\u001b[0m\u001b[0;34m\u001b[0m\u001b[0m\n\u001b[1;32m      4\u001b[0m \u001b[0mmodel\u001b[0m \u001b[0;34m=\u001b[0m \u001b[0mARIMA\u001b[0m\u001b[0;34m(\u001b[0m\u001b[0mdf\u001b[0m\u001b[0;34m,\u001b[0m \u001b[0morder\u001b[0m\u001b[0;34m=\u001b[0m\u001b[0;34m(\u001b[0m\u001b[0;36m1\u001b[0m\u001b[0;34m,\u001b[0m\u001b[0;36m1\u001b[0m\u001b[0;34m,\u001b[0m\u001b[0;36m1\u001b[0m\u001b[0;34m)\u001b[0m\u001b[0;34m)\u001b[0m\u001b[0;34m\u001b[0m\u001b[0;34m\u001b[0m\u001b[0m\n\u001b[0;32m----> 5\u001b[0;31m \u001b[0ma\u001b[0m \u001b[0;34m=\u001b[0m \u001b[0mmodel\u001b[0m\u001b[0;34m.\u001b[0m\u001b[0mpredict\u001b[0m\u001b[0;34m(\u001b[0m\u001b[0;34m)\u001b[0m\u001b[0;34m\u001b[0m\u001b[0;34m\u001b[0m\u001b[0m\n\u001b[0m\u001b[1;32m      6\u001b[0m \u001b[0mprint\u001b[0m\u001b[0;34m(\u001b[0m\u001b[0ma\u001b[0m\u001b[0;34m)\u001b[0m\u001b[0;34m\u001b[0m\u001b[0;34m\u001b[0m\u001b[0m\n",
      "\u001b[0;31mTypeError\u001b[0m: predict() missing 1 required positional argument: 'params'"
     ]
    }
   ],
   "source": [
    "# no filler\n",
    "from statsmodels.tsa.arima.model import ARIMA\n",
    "len(df)\n",
    "model = ARIMA(df, order=(1,1,1))\n",
    "model.pre"
   ]
  },
  {
   "cell_type": "code",
   "execution_count": 63,
   "id": "364de1bf",
   "metadata": {},
   "outputs": [
    {
     "name": "stderr",
     "output_type": "stream",
     "text": [
      "/Users/bryan/opt/anaconda3/lib/python3.9/site-packages/statsmodels/tsa/base/tsa_model.py:524: ValueWarning: No frequency information was provided, so inferred frequency MS will be used.\n",
      "  warnings.warn('No frequency information was'\n",
      "/Users/bryan/opt/anaconda3/lib/python3.9/site-packages/statsmodels/tsa/base/tsa_model.py:524: ValueWarning: No frequency information was provided, so inferred frequency MS will be used.\n",
      "  warnings.warn('No frequency information was'\n",
      "/Users/bryan/opt/anaconda3/lib/python3.9/site-packages/statsmodels/tsa/base/tsa_model.py:524: ValueWarning: No frequency information was provided, so inferred frequency MS will be used.\n",
      "  warnings.warn('No frequency information was'\n",
      "/Users/bryan/opt/anaconda3/lib/python3.9/site-packages/statsmodels/tsa/base/tsa_model.py:132: FutureWarning: The 'freq' argument in Timestamp is deprecated and will be removed in a future version.\n",
      "  date_key = Timestamp(key, freq=base_index.freq)\n"
     ]
    },
    {
     "data": {
      "image/png": "[encoded data removed]",
      "text/plain": [
       "<Figure size 720x432 with 1 Axes>"
      ]
     },
     "metadata": {
      "needs_background": "light"
     },
     "output_type": "display_data"
    }
   ],
   "source": [
    "from statsmodels.tsa.arima.model import ARIMA\n",
    "import seaborn as sb\n",
    "len(df)\n",
    "model = ARIMA(df, order=(21,1,1))\n",
    "model_fit = model.fit()\n",
    "a = model_fit.predict(end = '2023')\n",
    "ax = sb.lineplot(data = a, label=\"ARIMA\")\n",
    "b = df.squeeze()\n",
    "ax = sb.lineplot(data = b, label=\"Actual\")"
   ]
  },
  {
   "cell_type": "code",
   "execution_count": 136,
   "id": "37d42c3d",
   "metadata": {},
   "outputs": [
    {
     "name": "stderr",
     "output_type": "stream",
     "text": [
      "/Users/bryan/opt/anaconda3/lib/python3.9/site-packages/statsmodels/tsa/base/tsa_model.py:524: ValueWarning: No frequency information was provided, so inferred frequency MS will be used.\n",
      "  warnings.warn('No frequency information was'\n",
      "/Users/bryan/opt/anaconda3/lib/python3.9/site-packages/statsmodels/tsa/base/tsa_model.py:524: ValueWarning: No frequency information was provided, so inferred frequency MS will be used.\n",
      "  warnings.warn('No frequency information was'\n",
      "/Users/bryan/opt/anaconda3/lib/python3.9/site-packages/statsmodels/tsa/base/tsa_model.py:524: ValueWarning: No frequency information was provided, so inferred frequency MS will be used.\n",
      "  warnings.warn('No frequency information was'\n",
      "/Users/bryan/opt/anaconda3/lib/python3.9/site-packages/statsmodels/tsa/base/tsa_model.py:132: FutureWarning: The 'freq' argument in Timestamp is deprecated and will be removed in a future version.\n",
      "  date_key = Timestamp(key, freq=base_index.freq)\n"
     ]
    },
    {
     "name": "stdout",
     "output_type": "stream",
     "text": [
      "<class 'pandas._libs.tslibs.timestamps.Timestamp'>\n"
     ]
    },
    {
     "data": {
      "image/png": "[encoded data removed]",
      "text/plain": [
       "<Figure size 720x432 with 1 Axes>"
      ]
     },
     "metadata": {
      "needs_background": "light"
     },
     "output_type": "display_data"
    }
   ],
   "source": [
    "from statsmodels.tsa.arima.model import ARIMA\n",
    "import seaborn as sb\n",
    "len(df)\n",
    "model = ARIMA(df, order=(1,1,1))\n",
    "model_fit = model.fit()\n",
    "a = model_fit.predict(end='2022')\n",
    "ax = sb.lineplot(data = a, label=\"ARIMA\")\n",
    "ax = sb.lineplot(data = b, label=\"Actual\")\n",
    "b = df.squeeze()\n",
    "print(type(a.index[0]))"
   ]
  },
  {
   "cell_type": "code",
   "execution_count": 608,
   "id": "dd5d7a82",
   "metadata": {},
   "outputs": [],
   "source": [
    "df.loc[pd.Period(\"1991-02\", \"M\")] = 23"
   ]
  },
  {
   "cell_type": "code",
   "execution_count": 24,
   "id": "519777e5",
   "metadata": {},
   "outputs": [],
   "source": [
    "df = df.sort_index()"
   ]
  },
  {
   "cell_type": "code",
   "execution_count": 25,
   "id": "380f4126",
   "metadata": {},
   "outputs": [
    {
     "data": {
      "text/plain": [
       "<AxesSubplot:xlabel='Month'>"
      ]
     },
     "execution_count": 25,
     "metadata": {},
     "output_type": "execute_result"
    },
    {
     "data": {
      "image/png": "[encoded data removed]",
      "text/plain": [
       "<Figure size 720x432 with 1 Axes>"
      ]
     },
     "metadata": {
      "needs_background": "light"
     },
     "output_type": "display_data"
    }
   ],
   "source": [
    "df.plot()"
   ]
  },
  {
   "cell_type": "code",
   "execution_count": 619,
   "id": "9cc3af37",
   "metadata": {},
   "outputs": [
    {
     "data": {
      "text/plain": [
       "<AxesSubplot:xlabel='Month'>"
      ]
     },
     "execution_count": 619,
     "metadata": {},
     "output_type": "execute_result"
    },
    {
     "data": {
      "image/png": "[encoded data removed]",
      "text/plain": [
       "<Figure size 720x432 with 1 Axes>"
      ]
     },
     "metadata": {
      "needs_background": "light"
     },
     "output_type": "display_data"
    }
   ],
   "source": [
    "df.plot()"
   ]
  },
  {
   "cell_type": "markdown",
   "id": "747ffd0c",
   "metadata": {},
   "source": [
    "# Web Scrape (failed 403 Forbidden)\n",
    "propertyguru denied access for scrapping (no choice but to use selenium)"
   ]
  },
  {
   "cell_type": "code",
   "execution_count": 6,
   "id": "b1e57240",
   "metadata": {},
   "outputs": [],
   "source": [
    "import pandas as pd\n",
    "import requests\n",
    "from bs4 import BeautifulSoup as bs"
   ]
  },
  {
   "cell_type": "code",
   "execution_count": 7,
   "id": "f770a5c4",
   "metadata": {},
   "outputs": [],
   "source": [
    "url = \"https://www.propertyguru.com.sg/singapore-property-listing/hdb/jurong-west/boon-lay-place_103145/211/last-transacted-prices-and-insights\""
   ]
  },
  {
   "cell_type": "code",
   "execution_count": 8,
   "id": "bf283eb2",
   "metadata": {},
   "outputs": [],
   "source": [
    "response = requests.get(url)"
   ]
  },
  {
   "cell_type": "code",
   "execution_count": 10,
   "id": "3a466f09",
   "metadata": {},
   "outputs": [],
   "source": [
    "soup = bs(response.content, 'html.parser')"
   ]
  },
  {
   "cell_type": "code",
   "execution_count": 11,
   "id": "9497fb6f",
   "metadata": {},
   "outputs": [
    {
     "data": {
      "text/plain": [
       "<!DOCTYPE html>\n",
       "\n",
       "<html lang=\"en-US\">\n",
       "<head>\n",
       "<title>Access was denied</title>\n",
       "<meta content=\"text/html; charset=utf-8\" http-equiv=\"content-type\"/>\n",
       "<meta content=\"IE=Edge\" http-equiv=\"X-UA-Compatible\"/>\n",
       "<meta content=\"noindex, nofollow\" name=\"robots\"/>\n",
       "<meta content=\"width=device-width,initial-scale=1\" name=\"viewport\"/>\n",
       "<link href=\"/cdn-cgi/styles/errors.new.min.css\" media=\"screen\" rel=\"stylesheet\" type=\"text/css\"/>\n",
       "<script type=\"text/javascript\">\n",
       "(function(){if(document.addEventListener&&window.XMLHttpRequest&&JSON&&JSON.stringify){var e=function(a){var c=document.getElementById(\"error-feedback-survey\"),d=document.getElementById(\"error-feedback-success\"),b=new XMLHttpRequest;a={event:\"feedback clicked\",properties:{errorCode:1020,helpful:a,version:2}};b.open(\"POST\",\"https://sparrow.cloudflare.com/api/v1/event\");b.setRequestHeader(\"Content-Type\",\"application/json\");b.setRequestHeader(\"Sparrow-Source-Key\",\"c771f0e4b54944bebf4261d44bd79a1e\");\n",
       "b.send(JSON.stringify(a));c.classList.add(\"feedback-hidden\");d.classList.remove(\"feedback-hidden\")};document.addEventListener(\"DOMContentLoaded\",function(){var a=document.getElementById(\"error-feedback\"),c=document.getElementById(\"feedback-button-yes\"),d=document.getElementById(\"feedback-button-no\");\"classList\"in a&&(a.classList.remove(\"feedback-hidden\"),c.addEventListener(\"click\",function(){e(!0)}),d.addEventListener(\"click\",function(){e(!1)}))})}})();\n",
       "</script>\n",
       "<script type=\"text/javascript\">\n",
       "         (function(){if(document.addEventListener){var c=function(){var b=document.getElementById(\"copy-label\");document.getElementById(\"plain-ray-id\");if(navigator.clipboard)navigator.clipboard.writeText(\"6f5e94220b7e6c83\");else{var a=document.createElement(\"textarea\");a.value=\"6f5e94220b7e6c83\";a.style.top=\"0\";a.style.left=\"0\";a.style.position=\"fixed\";document.body.appendChild(a);a.focus();a.select();document.execCommand(\"copy\");document.body.removeChild(a)}b.innerText=\"Copied\"};document.addEventListener(\"DOMContentLoaded\",\n",
       "function(){var b=document.getElementById(\"plain-ray-id\"),a=document.getElementById(\"click-to-copy-btn\"),d=document.getElementById(\"reload-btn\");\"classList\"in b&&(b.classList.add(\"hidden\"),a.classList.remove(\"hidden\"),d.classList.remove(\"hidden\"),a.addEventListener(\"click\",c))})}})();\n",
       "      </script>\n",
       "<script defer=\"\" src=\"https://api.radar.cloudflare.com/beacon.js\"></script>\n",
       "<script async=\"\" src=\"/cdn-cgi/bm/cv/669835187/api.js\"></script></head>\n",
       "<body>\n",
       "<div class=\"main-wrapper\" role=\"main\">\n",
       "<div class=\"header section\">\n",
       "<h1>\n",
       "<span class=\"error-description\">Access was denied</span>\n",
       "<span class=\"code-label\">Error code <span>1020</span></span>\n",
       "</h1>\n",
       "<div class=\"large-font\">\n",
       "<p>You do not have access to www.propertyguru.com.sg.</p><p>The site owner may have set restrictions that prevent you from accessing the site. Contact the site owner for access or try loading the page again.</p>\n",
       "</div>\n",
       "<button class=\"px-4 rounded reload-button hidden\" id=\"reload-btn\" onclick=\"location.reload();\" type=\"button\">\n",
       "               Reload page\n",
       "            </button>\n",
       "</div>\n",
       "</div>\n",
       "<div>\n",
       "<div class=\"clearfix section\">\n",
       "<div class=\"column know-more\">\n",
       "<h2 class=\"large-font\">Additional information</h2>\n",
       "<p>The access policies of a site define which visits are allowed. Your current visit is not allowed according to those policies.</p><p>Only the site owner can change site access policies.</p>\n",
       "</div>\n",
       "<div class=\"column know-more\">\n",
       "<h2 class=\"large-font\">I am the site owner</h2>\n",
       "<p class=\"ray-id-wrapper\">\n",
       "                  Ray ID:\n",
       "                  <span class=\"plain-ray-id\" id=\"plain-ray-id\">\n",
       "                     6f5e94220b7e6c83\n",
       "                  </span>\n",
       "<button class=\"click-to-copy-btn hidden\" id=\"click-to-copy-btn\" title=\"Click to copy Ray ID\" type=\"button\">\n",
       "<span class=\"ray-id\">6f5e94220b7e6c83</span><span class=\"copy-label\" id=\"copy-label\">Copy</span>\n",
       "</button>\n",
       "</p>\n",
       "<ol>\n",
       "<li>\n",
       "                     Search the\n",
       "                     <a href=\"https://dash.cloudflare.com/?to=/:account/:zone/firewall\" rel=\"noopener noreferrer\" target=\"_blank\">Firewall Events Log</a>\n",
       "<img alt=\"External link\" class=\"external-link\" src=\"/cdn-cgi/images/external.png\" title=\"Opens in new tab\"/>\n",
       "                     for the above Ray ID.\n",
       "                  </li>\n",
       "<li>Examine and assess the details of the access policy.</li>\n",
       "</ol>\n",
       "<br/>\n",
       "<a href=\"https://support.cloudflare.com/hc/articles/360029779472-Troubleshooting-Cloudflare-1XXX-errors#error1020\" rel=\"noopener noreferrer\" target=\"_blank\">Troubleshooting guide</a>\n",
       "<img alt=\"External link\" class=\"external-link\" src=\"/cdn-cgi/images/external.png\" title=\"Opens in new tab\"/>\n",
       "</div>\n",
       "</div>\n",
       "<div class=\"clearfix footer section\" role=\"contentinfo\">\n",
       "<div class=\"column\">\n",
       "<div class=\"feedback-hidden py-8 text-center\" id=\"error-feedback\">\n",
       "<div class=\"footer-line-wrapper\" id=\"error-feedback-survey\">\n",
       "        Was this page helpful?\n",
       "        <button class=\"border border-solid bg-white cf-button cursor-pointer ml-4 px-4 py-2 rounded\" id=\"feedback-button-yes\" type=\"button\">Yes</button>\n",
       "<button class=\"border border-solid bg-white cf-button cursor-pointer ml-4 px-4 py-2 rounded\" id=\"feedback-button-no\" type=\"button\">No</button>\n",
       "</div>\n",
       "<div class=\"feedback-success feedback-hidden\" id=\"error-feedback-success\">\n",
       "        Thank you for your feedback!\n",
       "    </div>\n",
       "</div>\n",
       "</div>\n",
       "<div class=\"column footer-line-wrapper text-center\">\n",
       "               Performance &amp; security by <a href=\"https://www.cloudflare.com\" rel=\"noopener noreferrer\" target=\"_blank\">Cloudflare</a>\n",
       "<img alt=\"External link\" class=\"external-link\" src=\"/cdn-cgi/images/external.png\" title=\"Opens in new tab\"/>\n",
       "</div>\n",
       "</div>\n",
       "</div>\n",
       "<script type=\"text/javascript\">(function(){window['__CF$cv$params']={r:'6f5e94220b7e6c83',m:'jB44RyMC5u.IqOUMTrxR7lZk_.ENsoPYHefGpQEviEc-1648955085-0-AVLmm2RITqDqCkNPX0t/24SSTt1nEWBe32tgVjPWKvUK6NfUneNtMUjL1DiJKUndVJfkqPYPoZAmwlCc2UUeDaKHJrZ+7F0HdNp1raGAFeq85UnfO9jYqvIdM7pWcHWP5EyUIkDT4R0rC5AypyAoVDriF8OzziZ7qCsCJMvDrIQHxqAYVyXsUJ2+19LzeWsoyUHzDJJU1c+fu+Ok9o+dkr6PwQYUt43H3yEZkOFuDtHG0J1/Q7x5Vi0iqjayp+CxIA==',s:[0x5f4886cf49,0x97dfd6f216],}})();</script></body>\n",
       "</html>"
      ]
     },
     "execution_count": 11,
     "metadata": {},
     "output_type": "execute_result"
    }
   ],
   "source": [
    "soup"
   ]
  },
  {
   "cell_type": "markdown",
   "id": "f7b45696",
   "metadata": {},
   "source": [
    "## Auto ARIMA \n",
    "At first it was light a beam of hope, afterwards I realised manual testing is better :("
   ]
  },
  {
   "cell_type": "code",
   "execution_count": 131,
   "id": "6a0093fa",
   "metadata": {},
   "outputs": [
    {
     "name": "stdout",
     "output_type": "stream",
     "text": [
      "Performing stepwise search to minimize aic\n",
      " ARIMA(2,1,2)(0,0,0)[0] intercept   : AIC=7905.320, Time=0.18 sec\n",
      " ARIMA(0,1,0)(0,0,0)[0] intercept   : AIC=7965.129, Time=0.01 sec\n",
      " ARIMA(1,1,0)(0,0,0)[0] intercept   : AIC=7915.307, Time=0.03 sec\n",
      " ARIMA(0,1,1)(0,0,0)[0] intercept   : AIC=7902.074, Time=0.04 sec\n",
      " ARIMA(0,1,0)(0,0,0)[0]             : AIC=7964.074, Time=0.01 sec\n",
      " ARIMA(1,1,1)(0,0,0)[0] intercept   : AIC=7904.153, Time=0.04 sec\n",
      " ARIMA(0,1,2)(0,0,0)[0] intercept   : AIC=7905.094, Time=0.04 sec\n",
      " ARIMA(1,1,2)(0,0,0)[0] intercept   : AIC=inf, Time=0.25 sec\n",
      " ARIMA(0,1,1)(0,0,0)[0]             : AIC=7902.152, Time=0.02 sec\n",
      "\n",
      "Best model:  ARIMA(0,1,1)(0,0,0)[0] intercept\n",
      "Total fit time: 0.622 seconds\n"
     ]
    },
    {
     "data": {
      "text/html": [
       "<table class=\"simpletable\">\n",
       "<caption>SARIMAX Results</caption>\n",
       "<tr>\n",
       "  <th>Dep. Variable:</th>           <td>y</td>        <th>  No. Observations:  </th>    <td>369</td>   \n",
       "</tr>\n",
       "<tr>\n",
       "  <th>Model:</th>           <td>SARIMAX(0, 1, 1)</td> <th>  Log Likelihood     </th> <td>-3948.037</td>\n",
       "</tr>\n",
       "<tr>\n",
       "  <th>Date:</th>            <td>Sat, 02 Apr 2022</td> <th>  AIC                </th> <td>7902.074</td> \n",
       "</tr>\n",
       "<tr>\n",
       "  <th>Time:</th>                <td>13:38:19</td>     <th>  BIC                </th> <td>7913.798</td> \n",
       "</tr>\n",
       "<tr>\n",
       "  <th>Sample:</th>                  <td>0</td>        <th>  HQIC               </th> <td>7906.732</td> \n",
       "</tr>\n",
       "<tr>\n",
       "  <th></th>                      <td> - 369</td>      <th>                     </th>     <td> </td>    \n",
       "</tr>\n",
       "<tr>\n",
       "  <th>Covariance Type:</th>        <td>opg</td>       <th>                     </th>     <td> </td>    \n",
       "</tr>\n",
       "</table>\n",
       "<table class=\"simpletable\">\n",
       "<tr>\n",
       "      <td></td>         <th>coef</th>     <th>std err</th>      <th>z</th>      <th>P>|z|</th>  <th>[0.025</th>    <th>0.975]</th>  \n",
       "</tr>\n",
       "<tr>\n",
       "  <th>intercept</th> <td>  995.3117</td> <td>  321.997</td> <td>    3.091</td> <td> 0.002</td> <td>  364.208</td> <td> 1626.415</td>\n",
       "</tr>\n",
       "<tr>\n",
       "  <th>ma.L1</th>     <td>   -0.4492</td> <td>    0.034</td> <td>  -13.242</td> <td> 0.000</td> <td>   -0.516</td> <td>   -0.383</td>\n",
       "</tr>\n",
       "<tr>\n",
       "  <th>sigma2</th>    <td> 1.232e+08</td> <td>    0.002</td> <td> 8.08e+10</td> <td> 0.000</td> <td> 1.23e+08</td> <td> 1.23e+08</td>\n",
       "</tr>\n",
       "</table>\n",
       "<table class=\"simpletable\">\n",
       "<tr>\n",
       "  <th>Ljung-Box (L1) (Q):</th>     <td>0.00</td> <th>  Jarque-Bera (JB):  </th> <td>503.22</td>\n",
       "</tr>\n",
       "<tr>\n",
       "  <th>Prob(Q):</th>                <td>0.99</td> <th>  Prob(JB):          </th>  <td>0.00</td> \n",
       "</tr>\n",
       "<tr>\n",
       "  <th>Heteroskedasticity (H):</th> <td>2.71</td> <th>  Skew:              </th>  <td>-0.21</td>\n",
       "</tr>\n",
       "<tr>\n",
       "  <th>Prob(H) (two-sided):</th>    <td>0.00</td> <th>  Kurtosis:          </th>  <td>8.71</td> \n",
       "</tr>\n",
       "</table><br/><br/>Warnings:<br/>[1] Covariance matrix calculated using the outer product of gradients (complex-step).<br/>[2] Covariance matrix is singular or near-singular, with condition number 4.6e+26. Standard errors may be unstable."
      ],
      "text/plain": [
       "<class 'statsmodels.iolib.summary.Summary'>\n",
       "\"\"\"\n",
       "                               SARIMAX Results                                \n",
       "==============================================================================\n",
       "Dep. Variable:                      y   No. Observations:                  369\n",
       "Model:               SARIMAX(0, 1, 1)   Log Likelihood               -3948.037\n",
       "Date:                Sat, 02 Apr 2022   AIC                           7902.074\n",
       "Time:                        13:38:19   BIC                           7913.798\n",
       "Sample:                             0   HQIC                          7906.732\n",
       "                                - 369                                         \n",
       "Covariance Type:                  opg                                         \n",
       "==============================================================================\n",
       "                 coef    std err          z      P>|z|      [0.025      0.975]\n",
       "------------------------------------------------------------------------------\n",
       "intercept    995.3117    321.997      3.091      0.002     364.208    1626.415\n",
       "ma.L1         -0.4492      0.034    -13.242      0.000      -0.516      -0.383\n",
       "sigma2      1.232e+08      0.002   8.08e+10      0.000    1.23e+08    1.23e+08\n",
       "===================================================================================\n",
       "Ljung-Box (L1) (Q):                   0.00   Jarque-Bera (JB):               503.22\n",
       "Prob(Q):                              0.99   Prob(JB):                         0.00\n",
       "Heteroskedasticity (H):               2.71   Skew:                            -0.21\n",
       "Prob(H) (two-sided):                  0.00   Kurtosis:                         8.71\n",
       "===================================================================================\n",
       "\n",
       "Warnings:\n",
       "[1] Covariance matrix calculated using the outer product of gradients (complex-step).\n",
       "[2] Covariance matrix is singular or near-singular, with condition number 4.6e+26. Standard errors may be unstable.\n",
       "\"\"\""
      ]
     },
     "execution_count": 131,
     "metadata": {},
     "output_type": "execute_result"
    }
   ],
   "source": [
    "from pmdarima import auto_arima\n",
    "stepwise_fit = auto_arima(df, trace = True)\n",
    "stepwise_fit.summary()"
   ]
  },
  {
   "cell_type": "code",
   "execution_count": 198,
   "id": "eb6f4b7c",
   "metadata": {},
   "outputs": [
    {
     "name": "stdout",
     "output_type": "stream",
     "text": [
      "RUNNING THE L-BFGS-B CODE\n",
      "\n",
      "           * * *\n",
      "\n",
      "Machine precision = 2.220D-16\n",
      " N =            3     M =           12\n",
      "\n",
      "At X0         0 variables are exactly at the bounds\n",
      "\n",
      "At iterate    0    f=  1.08711D+01    |proj g|=  9.40403D-04\n",
      "\n",
      "At iterate    5    f=  1.08711D+01    |proj g|=  1.77636D-07\n",
      "\n",
      "           * * *\n",
      "\n",
      "Tit   = total number of iterations\n",
      "Tnf   = total number of function evaluations\n",
      "Tnint = total number of segments explored during Cauchy searches\n",
      "Skip  = number of BFGS updates skipped\n",
      "Nact  = number of active bounds at final generalized Cauchy point\n",
      "Projg = norm of the final projected gradient\n",
      "F     = final function value\n",
      "\n",
      "           * * *\n",
      "\n",
      "   N    Tit     Tnf  Tnint  Skip  Nact     Projg        F\n",
      "    3      6     13      1     0     0   1.776D-07   1.087D+01\n",
      "  F =   10.871103017567195     \n",
      "\n",
      "CONVERGENCE: REL_REDUCTION_OF_F_<=_FACTR*EPSMCH             \n"
     ]
    },
    {
     "name": "stderr",
     "output_type": "stream",
     "text": [
      " This problem is unconstrained.\n"
     ]
    },
    {
     "data": {
      "text/html": [
       "<table class=\"simpletable\">\n",
       "<caption>ARIMA Model Results</caption>\n",
       "<tr>\n",
       "  <th>Dep. Variable:</th>  <td>D.resale_price</td>  <th>  No. Observations:  </th>    <td>283</td>   \n",
       "</tr>\n",
       "<tr>\n",
       "  <th>Model:</th>          <td>ARIMA(1, 1, 1)</td>  <th>  Log Likelihood     </th> <td>-3076.522</td>\n",
       "</tr>\n",
       "<tr>\n",
       "  <th>Method:</th>             <td>css-mle</td>     <th>  S.D. of innovations</th> <td>12728.359</td>\n",
       "</tr>\n",
       "<tr>\n",
       "  <th>Date:</th>          <td>Wed, 30 Mar 2022</td> <th>  AIC                </th> <td>6161.044</td> \n",
       "</tr>\n",
       "<tr>\n",
       "  <th>Time:</th>              <td>14:21:02</td>     <th>  BIC                </th> <td>6175.626</td> \n",
       "</tr>\n",
       "<tr>\n",
       "  <th>Sample:</th>                <td>1</td>        <th>  HQIC               </th> <td>6166.891</td> \n",
       "</tr>\n",
       "<tr>\n",
       "  <th></th>                       <td> </td>        <th>                     </th>     <td> </td>    \n",
       "</tr>\n",
       "</table>\n",
       "<table class=\"simpletable\">\n",
       "<tr>\n",
       "            <td></td>              <th>coef</th>     <th>std err</th>      <th>z</th>      <th>P>|z|</th>  <th>[0.025</th>    <th>0.975]</th>  \n",
       "</tr>\n",
       "<tr>\n",
       "  <th>const</th>                <td>  760.9371</td> <td>  388.099</td> <td>    1.961</td> <td> 0.050</td> <td>    0.278</td> <td> 1521.597</td>\n",
       "</tr>\n",
       "<tr>\n",
       "  <th>ar.L1.D.resale_price</th> <td>   -0.1449</td> <td>    0.102</td> <td>   -1.427</td> <td> 0.154</td> <td>   -0.344</td> <td>    0.054</td>\n",
       "</tr>\n",
       "<tr>\n",
       "  <th>ma.L1.D.resale_price</th> <td>   -0.4146</td> <td>    0.090</td> <td>   -4.623</td> <td> 0.000</td> <td>   -0.590</td> <td>   -0.239</td>\n",
       "</tr>\n",
       "</table>\n",
       "<table class=\"simpletable\">\n",
       "<caption>Roots</caption>\n",
       "<tr>\n",
       "    <td></td>   <th>            Real</th>  <th>         Imaginary</th> <th>         Modulus</th>  <th>        Frequency</th>\n",
       "</tr>\n",
       "<tr>\n",
       "  <th>AR.1</th> <td>          -6.9022</td> <td>          +0.0000j</td> <td>           6.9022</td> <td>           0.5000</td>\n",
       "</tr>\n",
       "<tr>\n",
       "  <th>MA.1</th> <td>           2.4122</td> <td>          +0.0000j</td> <td>           2.4122</td> <td>           0.0000</td>\n",
       "</tr>\n",
       "</table>"
      ],
      "text/plain": [
       "<class 'statsmodels.iolib.summary.Summary'>\n",
       "\"\"\"\n",
       "                             ARIMA Model Results                              \n",
       "==============================================================================\n",
       "Dep. Variable:         D.resale_price   No. Observations:                  283\n",
       "Model:                 ARIMA(1, 1, 1)   Log Likelihood               -3076.522\n",
       "Method:                       css-mle   S.D. of innovations          12728.359\n",
       "Date:                Wed, 30 Mar 2022   AIC                           6161.044\n",
       "Time:                        14:21:02   BIC                           6175.626\n",
       "Sample:                             1   HQIC                          6166.891\n",
       "                                                                              \n",
       "========================================================================================\n",
       "                           coef    std err          z      P>|z|      [0.025      0.975]\n",
       "----------------------------------------------------------------------------------------\n",
       "const                  760.9371    388.099      1.961      0.050       0.278    1521.597\n",
       "ar.L1.D.resale_price    -0.1449      0.102     -1.427      0.154      -0.344       0.054\n",
       "ma.L1.D.resale_price    -0.4146      0.090     -4.623      0.000      -0.590      -0.239\n",
       "                                    Roots                                    \n",
       "=============================================================================\n",
       "                  Real          Imaginary           Modulus         Frequency\n",
       "-----------------------------------------------------------------------------\n",
       "AR.1           -6.9022           +0.0000j            6.9022            0.5000\n",
       "MA.1            2.4122           +0.0000j            2.4122            0.0000\n",
       "-----------------------------------------------------------------------------\n",
       "\"\"\""
      ]
     },
     "execution_count": 198,
     "metadata": {},
     "output_type": "execute_result"
    }
   ],
   "source": [
    "model = ARIMA(df, order=(1,1,1))\n",
    "model = model.fit()\n",
    "model.summary()"
   ]
  },
  {
   "cell_type": "code",
   "execution_count": 202,
   "id": "7a83073c",
   "metadata": {},
   "outputs": [
    {
     "ename": "AttributeError",
     "evalue": "'ARIMAResults' object has no attribute 'plot'",
     "output_type": "error",
     "traceback": [
      "\u001b[0;31m---------------------------------------------------------------------------\u001b[0m",
      "\u001b[0;31mAttributeError\u001b[0m                            Traceback (most recent call last)",
      "\u001b[0;32m/var/folders/kb/12q6c4tj5ll7tcw5jt9kszt40000gn/T/ipykernel_32680/3363642838.py\u001b[0m in \u001b[0;36m<module>\u001b[0;34m\u001b[0m\n\u001b[0;32m----> 1\u001b[0;31m \u001b[0mmodel\u001b[0m\u001b[0;34m.\u001b[0m\u001b[0mplot\u001b[0m\u001b[0;34m(\u001b[0m\u001b[0;34m)\u001b[0m\u001b[0;34m\u001b[0m\u001b[0;34m\u001b[0m\u001b[0m\n\u001b[0m\u001b[1;32m      2\u001b[0m \u001b[0mdf\u001b[0m\u001b[0;34m.\u001b[0m\u001b[0mplot\u001b[0m\u001b[0;34m(\u001b[0m\u001b[0;34m)\u001b[0m\u001b[0;34m\u001b[0m\u001b[0;34m\u001b[0m\u001b[0m\n",
      "\u001b[0;32m~/opt/anaconda3/lib/python3.9/site-packages/statsmodels/base/wrapper.py\u001b[0m in \u001b[0;36m__getattribute__\u001b[0;34m(self, attr)\u001b[0m\n\u001b[1;32m     32\u001b[0m             \u001b[0;32mpass\u001b[0m\u001b[0;34m\u001b[0m\u001b[0;34m\u001b[0m\u001b[0m\n\u001b[1;32m     33\u001b[0m \u001b[0;34m\u001b[0m\u001b[0m\n\u001b[0;32m---> 34\u001b[0;31m         \u001b[0mobj\u001b[0m \u001b[0;34m=\u001b[0m \u001b[0mgetattr\u001b[0m\u001b[0;34m(\u001b[0m\u001b[0mresults\u001b[0m\u001b[0;34m,\u001b[0m \u001b[0mattr\u001b[0m\u001b[0;34m)\u001b[0m\u001b[0;34m\u001b[0m\u001b[0;34m\u001b[0m\u001b[0m\n\u001b[0m\u001b[1;32m     35\u001b[0m         \u001b[0mdata\u001b[0m \u001b[0;34m=\u001b[0m \u001b[0mresults\u001b[0m\u001b[0;34m.\u001b[0m\u001b[0mmodel\u001b[0m\u001b[0;34m.\u001b[0m\u001b[0mdata\u001b[0m\u001b[0;34m\u001b[0m\u001b[0;34m\u001b[0m\u001b[0m\n\u001b[1;32m     36\u001b[0m         \u001b[0mhow\u001b[0m \u001b[0;34m=\u001b[0m \u001b[0mself\u001b[0m\u001b[0;34m.\u001b[0m\u001b[0m_wrap_attrs\u001b[0m\u001b[0;34m.\u001b[0m\u001b[0mget\u001b[0m\u001b[0;34m(\u001b[0m\u001b[0mattr\u001b[0m\u001b[0;34m)\u001b[0m\u001b[0;34m\u001b[0m\u001b[0;34m\u001b[0m\u001b[0m\n",
      "\u001b[0;31mAttributeError\u001b[0m: 'ARIMAResults' object has no attribute 'plot'"
     ]
    }
   ],
   "source": [
    "model.plot()\n",
    "df.plot()"
   ]
  },
  {
   "cell_type": "code",
   "execution_count": 186,
   "id": "9f50a40b",
   "metadata": {},
   "outputs": [
    {
     "data": {
      "text/plain": [
       "0       25000.0\n",
       "1       22500.0\n",
       "2       25000.0\n",
       "3       29750.0\n",
       "4       30000.0\n",
       "         ...   \n",
       "279    217000.0\n",
       "280    210000.0\n",
       "281    230000.0\n",
       "282    225000.0\n",
       "283    250000.0\n",
       "Name: resale_price, Length: 284, dtype: float64"
      ]
     },
     "execution_count": 186,
     "metadata": {},
     "output_type": "execute_result"
    }
   ],
   "source": [
    "df"
   ]
  },
  {
   "cell_type": "markdown",
   "id": "03d1fd0c",
   "metadata": {},
   "source": [
    "# ARIMA Playground (To be removed)"
   ]
  },
  {
   "cell_type": "code",
   "execution_count": 13,
   "id": "ab4086ac",
   "metadata": {},
   "outputs": [],
   "source": [
    "import numpy as np\n",
    "import pandas as pd\n",
    "import matplotlib.pylab as plt\n",
    "from matplotlib.pylab import rcParams\n",
    "rcParams['figure.figsize'] = 10, 6"
   ]
  },
  {
   "cell_type": "code",
   "execution_count": 74,
   "id": "f7b9e212",
   "metadata": {},
   "outputs": [],
   "source": [
    "dataset = pd.read_csv(\"jurong_211.csv\")\n",
    "dataset[\"Month\"] = pd.to_datetime(dataset[\"Month\"], infer_datetime_format = True)\n",
    "indexedDataset = dataset.set_index([\"Month\"])"
   ]
  },
  {
   "cell_type": "code",
   "execution_count": 79,
   "id": "01e2b03e",
   "metadata": {},
   "outputs": [
    {
     "data": {
      "text/html": [
       "<div>\n",
       "<style scoped>\n",
       "    .dataframe tbody tr th:only-of-type {\n",
       "        vertical-align: middle;\n",
       "    }\n",
       "\n",
       "    .dataframe tbody tr th {\n",
       "        vertical-align: top;\n",
       "    }\n",
       "\n",
       "    .dataframe thead th {\n",
       "        text-align: right;\n",
       "    }\n",
       "</style>\n",
       "<table border=\"1\" class=\"dataframe\">\n",
       "  <thead>\n",
       "    <tr style=\"text-align: right;\">\n",
       "      <th></th>\n",
       "      <th>resale_price</th>\n",
       "    </tr>\n",
       "    <tr>\n",
       "      <th>Month</th>\n",
       "      <th></th>\n",
       "    </tr>\n",
       "  </thead>\n",
       "  <tbody>\n",
       "    <tr>\n",
       "      <th>2019-02-01</th>\n",
       "      <td>222500.0</td>\n",
       "    </tr>\n",
       "    <tr>\n",
       "      <th>2019-03-01</th>\n",
       "      <td>220000.0</td>\n",
       "    </tr>\n",
       "    <tr>\n",
       "      <th>2019-05-01</th>\n",
       "      <td>218000.0</td>\n",
       "    </tr>\n",
       "    <tr>\n",
       "      <th>2019-09-01</th>\n",
       "      <td>210500.0</td>\n",
       "    </tr>\n",
       "    <tr>\n",
       "      <th>2019-10-01</th>\n",
       "      <td>225000.0</td>\n",
       "    </tr>\n",
       "    <tr>\n",
       "      <th>2019-11-01</th>\n",
       "      <td>217000.0</td>\n",
       "    </tr>\n",
       "    <tr>\n",
       "      <th>2020-02-01</th>\n",
       "      <td>210000.0</td>\n",
       "    </tr>\n",
       "    <tr>\n",
       "      <th>2020-07-01</th>\n",
       "      <td>230000.0</td>\n",
       "    </tr>\n",
       "    <tr>\n",
       "      <th>2020-08-01</th>\n",
       "      <td>225000.0</td>\n",
       "    </tr>\n",
       "    <tr>\n",
       "      <th>2020-09-01</th>\n",
       "      <td>250000.0</td>\n",
       "    </tr>\n",
       "  </tbody>\n",
       "</table>\n",
       "</div>"
      ],
      "text/plain": [
       "            resale_price\n",
       "Month                   \n",
       "2019-02-01      222500.0\n",
       "2019-03-01      220000.0\n",
       "2019-05-01      218000.0\n",
       "2019-09-01      210500.0\n",
       "2019-10-01      225000.0\n",
       "2019-11-01      217000.0\n",
       "2020-02-01      210000.0\n",
       "2020-07-01      230000.0\n",
       "2020-08-01      225000.0\n",
       "2020-09-01      250000.0"
      ]
     },
     "execution_count": 79,
     "metadata": {},
     "output_type": "execute_result"
    }
   ],
   "source": [
    "indexedDataset.tail(10)"
   ]
  },
  {
   "cell_type": "code",
   "execution_count": 80,
   "id": "70a96b79",
   "metadata": {},
   "outputs": [
    {
     "data": {
      "text/plain": [
       "[<matplotlib.lines.Line2D at 0x7fd20c51dfd0>]"
      ]
     },
     "execution_count": 80,
     "metadata": {},
     "output_type": "execute_result"
    },
    {
     "data": {
      "image/png": "[encoded data removed]",
      "text/plain": [
       "<Figure size 720x432 with 1 Axes>"
      ]
     },
     "metadata": {
      "needs_background": "light"
     },
     "output_type": "display_data"
    }
   ],
   "source": [
    "plt.xlabel(\"Date\")\n",
    "plt.xlabel(\"resale_price\")\n",
    "plt.plot(indexedDataset)"
   ]
  },
  {
   "cell_type": "code",
   "execution_count": 83,
   "id": "3e829702",
   "metadata": {},
   "outputs": [
    {
     "name": "stdout",
     "output_type": "stream",
     "text": [
      "             resale_price\n",
      "Month                    \n",
      "1990-01-01            NaN\n",
      "1990-02-01            NaN\n",
      "1990-03-01            NaN\n",
      "1990-04-01            NaN\n",
      "1990-05-01            NaN\n",
      "...                   ...\n",
      "2019-11-01  221120.333333\n",
      "2020-02-01  219620.333333\n",
      "2020-07-01  220037.000000\n",
      "2020-08-01  220453.666667\n",
      "2020-09-01  221287.000000\n",
      "\n",
      "[284 rows x 1 columns]             resale_price\n",
      "Month                   \n",
      "1990-01-01           NaN\n",
      "1990-02-01           NaN\n",
      "1990-03-01           NaN\n",
      "1990-04-01           NaN\n",
      "1990-05-01           NaN\n",
      "...                  ...\n",
      "2019-11-01   7910.334866\n",
      "2020-02-01   8188.902550\n",
      "2020-07-01   8604.188768\n",
      "2020-08-01   8722.485961\n",
      "2020-09-01  10952.345984\n",
      "\n",
      "[284 rows x 1 columns]\n"
     ]
    }
   ],
   "source": [
    "rolmean = indexedDataset.rolling(window=12).mean()\n",
    "rolstd = indexedDataset.rolling(window=12).std()\n",
    "print(rolmean, rolstd)"
   ]
  },
  {
   "cell_type": "code",
   "execution_count": 88,
   "id": "6fa95529",
   "metadata": {},
   "outputs": [
    {
     "data": {
      "image/png": "[encoded data removed]",
      "text/plain": [
       "<Figure size 720x432 with 1 Axes>"
      ]
     },
     "metadata": {
      "needs_background": "light"
     },
     "output_type": "display_data"
    }
   ],
   "source": [
    "orig = plt.plot(indexedDataset, color='blue', label='Original')\n",
    "mean = plt.plot(rolmean, color='red', label='Rolling Mean')\n",
    "std = plt.plot(rolstd, color='black', label='Rolling Std')\n",
    "plt.legend(loc='best')\n",
    "plt.title(\"Rolling Mean & SD\")\n",
    "plt.show(block=False)"
   ]
  },
  {
   "cell_type": "code",
   "execution_count": 100,
   "id": "18bac171",
   "metadata": {},
   "outputs": [
    {
     "name": "stdout",
     "output_type": "stream",
     "text": [
      "Results of Dickey-Fuller Test: \n",
      "Test Statistic                  -1.359596\n",
      "p-value                          0.601486\n",
      "#Lags Used                      10.000000\n",
      "Number of Observations Used    273.000000\n",
      "Critical Value (1%)             -3.454533\n",
      "Critical Value (5%)             -2.872186\n",
      "Critical Value (10%)            -2.572443\n",
      "dtype: float64\n"
     ]
    }
   ],
   "source": [
    "from statsmodels.tsa.stattools import adfuller\n",
    "\n",
    "print(\"Results of Dickey-Fuller Test: \")\n",
    "dftest = adfuller(indexedDataset[\"resale_price\"], autolag=\"AIC\")\n",
    "\n",
    "dfoutput = pd.Series(dftest[0:4], index = [\"Test Statistic\", \"p-value\", \"#Lags Used\", \"Number of Observations Used\"])\n",
    "for key, value in dftest[4].items():\n",
    "    dfoutput[f\"Critical Value ({key})\"] = value\n",
    "    \n",
    "print(dfoutput)"
   ]
  },
  {
   "cell_type": "code",
   "execution_count": 101,
   "id": "2a59b486",
   "metadata": {},
   "outputs": [
    {
     "data": {
      "text/plain": [
       "[<matplotlib.lines.Line2D at 0x7fd2136e3b80>]"
      ]
     },
     "execution_count": 101,
     "metadata": {},
     "output_type": "execute_result"
    },
    {
     "data": {
      "image/png": "[encoded data removed]",
      "text/plain": [
       "<Figure size 720x432 with 1 Axes>"
      ]
     },
     "metadata": {
      "needs_background": "light"
     },
     "output_type": "display_data"
    }
   ],
   "source": [
    "indexedDataset_logScale = np.log(indexedDataset)\n",
    "plt.plot(indexedDataset_logScale)"
   ]
  },
  {
   "cell_type": "code",
   "execution_count": 102,
   "id": "408fd12b",
   "metadata": {},
   "outputs": [
    {
     "data": {
      "text/plain": [
       "[<matplotlib.lines.Line2D at 0x7fd215553e50>]"
      ]
     },
     "execution_count": 102,
     "metadata": {},
     "output_type": "execute_result"
    },
    {
     "data": {
      "image/png": "[encoded data removed]",
      "text/plain": [
       "<Figure size 720x432 with 1 Axes>"
      ]
     },
     "metadata": {
      "needs_background": "light"
     },
     "output_type": "display_data"
    }
   ],
   "source": [
    "movingAverage = indexedDataset_logScale.rolling(window=12).mean()\n",
    "movingSTD = indexedDataset_logScale.rolling(window=12).std()\n",
    "plt.plot(indexedDataset_logScale)\n",
    "plt.plot(movingAverage, color='red')"
   ]
  },
  {
   "cell_type": "code",
   "execution_count": 107,
   "id": "2823b3b1",
   "metadata": {},
   "outputs": [
    {
     "data": {
      "text/html": [
       "<div>\n",
       "<style scoped>\n",
       "    .dataframe tbody tr th:only-of-type {\n",
       "        vertical-align: middle;\n",
       "    }\n",
       "\n",
       "    .dataframe tbody tr th {\n",
       "        vertical-align: top;\n",
       "    }\n",
       "\n",
       "    .dataframe thead th {\n",
       "        text-align: right;\n",
       "    }\n",
       "</style>\n",
       "<table border=\"1\" class=\"dataframe\">\n",
       "  <thead>\n",
       "    <tr style=\"text-align: right;\">\n",
       "      <th></th>\n",
       "      <th>resale_price</th>\n",
       "    </tr>\n",
       "    <tr>\n",
       "      <th>Month</th>\n",
       "      <th></th>\n",
       "    </tr>\n",
       "  </thead>\n",
       "  <tbody>\n",
       "    <tr>\n",
       "      <th>1990-12-01</th>\n",
       "      <td>0.181622</td>\n",
       "    </tr>\n",
       "    <tr>\n",
       "      <th>1991-01-01</th>\n",
       "      <td>0.086562</td>\n",
       "    </tr>\n",
       "    <tr>\n",
       "      <th>1991-03-01</th>\n",
       "      <td>0.147016</td>\n",
       "    </tr>\n",
       "    <tr>\n",
       "      <th>1991-04-01</th>\n",
       "      <td>-0.147144</td>\n",
       "    </tr>\n",
       "    <tr>\n",
       "      <th>1991-05-01</th>\n",
       "      <td>-0.147206</td>\n",
       "    </tr>\n",
       "    <tr>\n",
       "      <th>1991-06-01</th>\n",
       "      <td>-0.141146</td>\n",
       "    </tr>\n",
       "    <tr>\n",
       "      <th>1991-07-01</th>\n",
       "      <td>0.182289</td>\n",
       "    </tr>\n",
       "    <tr>\n",
       "      <th>1991-08-01</th>\n",
       "      <td>-0.155134</td>\n",
       "    </tr>\n",
       "    <tr>\n",
       "      <th>1991-09-01</th>\n",
       "      <td>0.152268</td>\n",
       "    </tr>\n",
       "    <tr>\n",
       "      <th>1991-10-01</th>\n",
       "      <td>0.119478</td>\n",
       "    </tr>\n",
       "  </tbody>\n",
       "</table>\n",
       "</div>"
      ],
      "text/plain": [
       "            resale_price\n",
       "Month                   \n",
       "1990-12-01      0.181622\n",
       "1991-01-01      0.086562\n",
       "1991-03-01      0.147016\n",
       "1991-04-01     -0.147144\n",
       "1991-05-01     -0.147206\n",
       "1991-06-01     -0.141146\n",
       "1991-07-01      0.182289\n",
       "1991-08-01     -0.155134\n",
       "1991-09-01      0.152268\n",
       "1991-10-01      0.119478"
      ]
     },
     "execution_count": 107,
     "metadata": {},
     "output_type": "execute_result"
    }
   ],
   "source": [
    "datasetLogScaleMinusMovingAverage = indexedDataset_logScale - movingAverage\n",
    "\n",
    "datasetLogScaleMinusMovingAverage.dropna(inplace=True)\n",
    "datasetLogScaleMinusMovingAverage.head(10)"
   ]
  },
  {
   "cell_type": "code",
   "execution_count": 108,
   "id": "5c43a594",
   "metadata": {},
   "outputs": [],
   "source": [
    "from statsmodels.tsa.stattools import adfuller\n",
    "\n",
    "def test_stationary(timeseries):\n",
    "    movingAverage = timeseries.rolling(window=12).mean()\n",
    "    movingSTD = timeseries.rolling(window=12).std()\n",
    "    \n",
    "    orig = plt.plot(timeseries, color='blue', label='Original')\n",
    "    mean = plt.plot(movingAverage, color='red', label='Rolling Mean')\n",
    "    std = plt.plot(movingSTD, color='black', label='Rolling Std')\n",
    "    plt.legend(loc='best')\n",
    "    plt.title(\"Rolling Mean & SD\")\n",
    "    plt.show(block=False)\n",
    "    \n",
    "    \n",
    "    print(\"Results of Dickey-Fuller Test: \")\n",
    "    dftest = adfuller(indexedDataset[\"resale_price\"], autolag=\"AIC\")\n",
    "\n",
    "    dfoutput = pd.Series(dftest[0:4], index = [\"Test Statistic\", \"p-value\", \"#Lags Used\", \"Number of Observations Used\"])\n",
    "    for key, value in dftest[4].items():\n",
    "        dfoutput[f\"Critical Value ({key})\"] = value\n",
    "\n",
    "    print(dfoutput)"
   ]
  },
  {
   "cell_type": "code",
   "execution_count": 109,
   "id": "dcdb2892",
   "metadata": {},
   "outputs": [
    {
     "data": {
      "image/png": "[encoded data removed]",
      "text/plain": [
       "<Figure size 720x432 with 1 Axes>"
      ]
     },
     "metadata": {
      "needs_background": "light"
     },
     "output_type": "display_data"
    },
    {
     "name": "stdout",
     "output_type": "stream",
     "text": [
      "Results of Dickey-Fuller Test: \n",
      "Test Statistic                  -1.359596\n",
      "p-value                          0.601486\n",
      "#Lags Used                      10.000000\n",
      "Number of Observations Used    273.000000\n",
      "Critical Value (1%)             -3.454533\n",
      "Critical Value (5%)             -2.872186\n",
      "Critical Value (10%)            -2.572443\n",
      "dtype: float64\n"
     ]
    }
   ],
   "source": [
    "test_stationary(datasetLogScaleMinusMovingAverage)"
   ]
  },
  {
   "cell_type": "markdown",
   "id": "65370471",
   "metadata": {},
   "source": [
    "# Start of LSTM (Failed)"
   ]
  },
  {
   "cell_type": "markdown",
   "id": "3c0e516d",
   "metadata": {},
   "source": [
    "I tried my best... I still dk how to implement this model"
   ]
  },
  {
   "cell_type": "code",
   "execution_count": 112,
   "id": "02147459",
   "metadata": {},
   "outputs": [],
   "source": [
    "df = pd.read_csv(\"jurong_211.csv\")\n",
    "df1=df.reset_index()['resale_price']"
   ]
  },
  {
   "cell_type": "code",
   "execution_count": 224,
   "id": "d1a2a4d5",
   "metadata": {},
   "outputs": [],
   "source": [
    "df = pd.read_csv(\"jurong_211.csv\", index_col=\"Month\", parse_dates=True)"
   ]
  },
  {
   "cell_type": "code",
   "execution_count": 227,
   "id": "283a39c3",
   "metadata": {},
   "outputs": [
    {
     "data": {
      "text/html": [
       "<div>\n",
       "<style scoped>\n",
       "    .dataframe tbody tr th:only-of-type {\n",
       "        vertical-align: middle;\n",
       "    }\n",
       "\n",
       "    .dataframe tbody tr th {\n",
       "        vertical-align: top;\n",
       "    }\n",
       "\n",
       "    .dataframe thead th {\n",
       "        text-align: right;\n",
       "    }\n",
       "</style>\n",
       "<table border=\"1\" class=\"dataframe\">\n",
       "  <thead>\n",
       "    <tr style=\"text-align: right;\">\n",
       "      <th></th>\n",
       "      <th>resale_price</th>\n",
       "    </tr>\n",
       "    <tr>\n",
       "      <th>Month</th>\n",
       "      <th></th>\n",
       "    </tr>\n",
       "  </thead>\n",
       "  <tbody>\n",
       "    <tr>\n",
       "      <th>1990-01-01</th>\n",
       "      <td>25000.0</td>\n",
       "    </tr>\n",
       "    <tr>\n",
       "      <th>1990-02-01</th>\n",
       "      <td>22500.0</td>\n",
       "    </tr>\n",
       "    <tr>\n",
       "      <th>1990-03-01</th>\n",
       "      <td>25000.0</td>\n",
       "    </tr>\n",
       "    <tr>\n",
       "      <th>1990-04-01</th>\n",
       "      <td>29750.0</td>\n",
       "    </tr>\n",
       "    <tr>\n",
       "      <th>1990-05-01</th>\n",
       "      <td>30000.0</td>\n",
       "    </tr>\n",
       "    <tr>\n",
       "      <th>...</th>\n",
       "      <td>...</td>\n",
       "    </tr>\n",
       "    <tr>\n",
       "      <th>2019-11-01</th>\n",
       "      <td>217000.0</td>\n",
       "    </tr>\n",
       "    <tr>\n",
       "      <th>2020-02-01</th>\n",
       "      <td>210000.0</td>\n",
       "    </tr>\n",
       "    <tr>\n",
       "      <th>2020-07-01</th>\n",
       "      <td>230000.0</td>\n",
       "    </tr>\n",
       "    <tr>\n",
       "      <th>2020-08-01</th>\n",
       "      <td>225000.0</td>\n",
       "    </tr>\n",
       "    <tr>\n",
       "      <th>2020-09-01</th>\n",
       "      <td>250000.0</td>\n",
       "    </tr>\n",
       "  </tbody>\n",
       "</table>\n",
       "<p>284 rows × 1 columns</p>\n",
       "</div>"
      ],
      "text/plain": [
       "            resale_price\n",
       "Month                   \n",
       "1990-01-01       25000.0\n",
       "1990-02-01       22500.0\n",
       "1990-03-01       25000.0\n",
       "1990-04-01       29750.0\n",
       "1990-05-01       30000.0\n",
       "...                  ...\n",
       "2019-11-01      217000.0\n",
       "2020-02-01      210000.0\n",
       "2020-07-01      230000.0\n",
       "2020-08-01      225000.0\n",
       "2020-09-01      250000.0\n",
       "\n",
       "[284 rows x 1 columns]"
      ]
     },
     "execution_count": 227,
     "metadata": {},
     "output_type": "execute_result"
    }
   ],
   "source": [
    "df"
   ]
  },
  {
   "cell_type": "code",
   "execution_count": 116,
   "id": "64d20d15",
   "metadata": {},
   "outputs": [
    {
     "data": {
      "text/plain": [
       "[<matplotlib.lines.Line2D at 0x7fd21654a550>]"
      ]
     },
     "execution_count": 116,
     "metadata": {},
     "output_type": "execute_result"
    },
    {
     "data": {
      "image/png": "[encoded data removed]",
      "text/plain": [
       "<Figure size 720x432 with 1 Axes>"
      ]
     },
     "metadata": {
      "needs_background": "light"
     },
     "output_type": "display_data"
    }
   ],
   "source": [
    "import matplotlib.pyplot as plt\n",
    "plt.plot(df1)"
   ]
  },
  {
   "cell_type": "code",
   "execution_count": 118,
   "id": "f20ca09d",
   "metadata": {},
   "outputs": [],
   "source": [
    "import numpy as np\n",
    "from sklearn.preprocessing import MinMaxScaler\n",
    "scaler=MinMaxScaler(feature_range=(0,1))\n",
    "df1=scaler.fit_transform(np.array(df1).reshape(-1,1))"
   ]
  },
  {
   "cell_type": "code",
   "execution_count": 131,
   "id": "9849f429",
   "metadata": {},
   "outputs": [],
   "source": [
    "##splitting dataset into train and test split\n",
    "training_size=int(len(df1)*0.65)\n",
    "test_size=len(df1)-training_size\n",
    "train_data,test_data=df1[0:training_size,:],df1[training_size:len(df1),:1]"
   ]
  },
  {
   "cell_type": "code",
   "execution_count": 132,
   "id": "c994f66b",
   "metadata": {},
   "outputs": [
    {
     "data": {
      "text/plain": [
       "(184, 100)"
      ]
     },
     "execution_count": 132,
     "metadata": {},
     "output_type": "execute_result"
    }
   ],
   "source": [
    "training_size,test_size"
   ]
  },
  {
   "cell_type": "code",
   "execution_count": 122,
   "id": "3731b1f9",
   "metadata": {},
   "outputs": [],
   "source": [
    "import numpy\n",
    "# convert an array of values into a dataset matrix\n",
    "def create_dataset(dataset, time_step=1):\n",
    "\tdataX, dataY = [], []\n",
    "\tfor i in range(len(dataset)-time_step-1):\n",
    "\t\ta = dataset[i:(i+time_step), 0]   ###i=0, 0,1,2,3-----99   100 \n",
    "\t\tdataX.append(a)\n",
    "\t\tdataY.append(dataset[i + time_step, 0])\n",
    "\treturn numpy.array(dataX), numpy.array(dataY)"
   ]
  },
  {
   "cell_type": "code",
   "execution_count": 133,
   "id": "07d41195",
   "metadata": {},
   "outputs": [],
   "source": [
    "# reshape into X=t,t+1,t+2,t+3 and Y=t+4\n",
    "time_step = 12\n",
    "X_train, y_train = create_dataset(train_data, time_step)\n",
    "X_test, ytest = create_dataset(test_data, time_step)"
   ]
  },
  {
   "cell_type": "code",
   "execution_count": 134,
   "id": "17292836",
   "metadata": {},
   "outputs": [],
   "source": [
    "# reshape input to be [samples, time steps, features] which is required for LSTM\n",
    "X_train =X_train.reshape(X_train.shape[0],X_train.shape[1] , 1)\n",
    "X_test = X_test.reshape(X_test.shape[0],X_test.shape[1] , 1)"
   ]
  },
  {
   "cell_type": "code",
   "execution_count": 135,
   "id": "bcbf5912",
   "metadata": {},
   "outputs": [
    {
     "name": "stdout",
     "output_type": "stream",
     "text": [
      "(171, 12, 1)\n",
      "(171,)\n"
     ]
    },
    {
     "data": {
      "text/plain": [
       "(None, None)"
      ]
     },
     "execution_count": 135,
     "metadata": {},
     "output_type": "execute_result"
    }
   ],
   "source": [
    "print(X_train.shape), print(y_train.shape)"
   ]
  },
  {
   "cell_type": "code",
   "execution_count": 136,
   "id": "d4c1b294",
   "metadata": {},
   "outputs": [
    {
     "name": "stdout",
     "output_type": "stream",
     "text": [
      "(87, 12, 1)\n",
      "(87,)\n"
     ]
    },
    {
     "data": {
      "text/plain": [
       "(None, None)"
      ]
     },
     "execution_count": 136,
     "metadata": {},
     "output_type": "execute_result"
    }
   ],
   "source": [
    "print(X_test.shape), print(ytest.shape)"
   ]
  },
  {
   "cell_type": "code",
   "execution_count": 137,
   "id": "ec55eadf",
   "metadata": {},
   "outputs": [],
   "source": [
    "from tensorflow.keras.models import Sequential\n",
    "from tensorflow.keras.layers import Dense\n",
    "from tensorflow.keras.layers import LSTM"
   ]
  },
  {
   "cell_type": "code",
   "execution_count": 148,
   "id": "62d47bab",
   "metadata": {},
   "outputs": [],
   "source": [
    "model=Sequential()\n",
    "model.add(LSTM(6,return_sequences=True,input_shape=(12,1)))\n",
    "model.add(LSTM(6,return_sequences=True))\n",
    "model.add(LSTM(6))\n",
    "model.add(Dense(1))\n",
    "model.compile(loss='mean_squared_error',optimizer='adam')"
   ]
  },
  {
   "cell_type": "code",
   "execution_count": 149,
   "id": "03ba4964",
   "metadata": {},
   "outputs": [
    {
     "name": "stdout",
     "output_type": "stream",
     "text": [
      "Model: \"sequential_2\"\n",
      "_________________________________________________________________\n",
      " Layer (type)                Output Shape              Param #   \n",
      "=================================================================\n",
      " lstm_6 (LSTM)               (None, 12, 6)             192       \n",
      "                                                                 \n",
      " lstm_7 (LSTM)               (None, 12, 6)             312       \n",
      "                                                                 \n",
      " lstm_8 (LSTM)               (None, 6)                 312       \n",
      "                                                                 \n",
      " dense_2 (Dense)             (None, 1)                 7         \n",
      "                                                                 \n",
      "=================================================================\n",
      "Total params: 823\n",
      "Trainable params: 823\n",
      "Non-trainable params: 0\n",
      "_________________________________________________________________\n"
     ]
    }
   ],
   "source": [
    "model.summary()"
   ]
  },
  {
   "cell_type": "code",
   "execution_count": 150,
   "id": "0ab97ab9",
   "metadata": {},
   "outputs": [
    {
     "name": "stdout",
     "output_type": "stream",
     "text": [
      "Epoch 1/12\n",
      "3/3 [==============================] - 4s 390ms/step - loss: 0.0344 - val_loss: 0.2291\n",
      "Epoch 2/12\n",
      "3/3 [==============================] - 0s 25ms/step - loss: 0.0229 - val_loss: 0.1786\n",
      "Epoch 3/12\n",
      "3/3 [==============================] - 0s 22ms/step - loss: 0.0138 - val_loss: 0.1327\n",
      "Epoch 4/12\n",
      "3/3 [==============================] - 0s 18ms/step - loss: 0.0077 - val_loss: 0.0938\n",
      "Epoch 5/12\n",
      "3/3 [==============================] - 0s 18ms/step - loss: 0.0053 - val_loss: 0.0645\n",
      "Epoch 6/12\n",
      "3/3 [==============================] - 0s 17ms/step - loss: 0.0056 - val_loss: 0.0467\n",
      "Epoch 7/12\n",
      "3/3 [==============================] - 0s 19ms/step - loss: 0.0069 - val_loss: 0.0403\n",
      "Epoch 8/12\n",
      "3/3 [==============================] - 0s 18ms/step - loss: 0.0072 - val_loss: 0.0421\n",
      "Epoch 9/12\n",
      "3/3 [==============================] - 0s 18ms/step - loss: 0.0062 - val_loss: 0.0496\n",
      "Epoch 10/12\n",
      "3/3 [==============================] - 0s 18ms/step - loss: 0.0052 - val_loss: 0.0591\n",
      "Epoch 11/12\n",
      "3/3 [==============================] - 0s 19ms/step - loss: 0.0046 - val_loss: 0.0673\n",
      "Epoch 12/12\n",
      "3/3 [==============================] - 0s 19ms/step - loss: 0.0045 - val_loss: 0.0714\n"
     ]
    },
    {
     "data": {
      "text/plain": [
       "<keras.callbacks.History at 0x7fd1fce56ee0>"
      ]
     },
     "execution_count": 150,
     "metadata": {},
     "output_type": "execute_result"
    }
   ],
   "source": [
    "model.fit(X_train,y_train,validation_data=(X_test,ytest),epochs=12,batch_size=64,verbose=1)"
   ]
  },
  {
   "cell_type": "code",
   "execution_count": 151,
   "id": "baafa516",
   "metadata": {},
   "outputs": [],
   "source": [
    "import tensorflow as tf\n"
   ]
  },
  {
   "cell_type": "code",
   "execution_count": 152,
   "id": "6dc378a2",
   "metadata": {},
   "outputs": [],
   "source": [
    "train_predict=model.predict(X_train)\n",
    "test_predict=model.predict(X_test)"
   ]
  },
  {
   "cell_type": "code",
   "execution_count": 153,
   "id": "32e2a64b",
   "metadata": {},
   "outputs": [],
   "source": [
    "train_predict=scaler.inverse_transform(train_predict)\n",
    "test_predict=scaler.inverse_transform(test_predict)"
   ]
  },
  {
   "cell_type": "code",
   "execution_count": 154,
   "id": "691ccd01",
   "metadata": {},
   "outputs": [
    {
     "data": {
      "text/plain": [
       "102612.67592243868"
      ]
     },
     "execution_count": 154,
     "metadata": {},
     "output_type": "execute_result"
    }
   ],
   "source": [
    "### Calculate RMSE performance metrics\n",
    "import math\n",
    "from sklearn.metrics import mean_squared_error\n",
    "math.sqrt(mean_squared_error(y_train,train_predict))"
   ]
  },
  {
   "cell_type": "code",
   "execution_count": 155,
   "id": "fa9c76e7",
   "metadata": {},
   "outputs": [
    {
     "data": {
      "text/plain": [
       "180396.07065232212"
      ]
     },
     "execution_count": 155,
     "metadata": {},
     "output_type": "execute_result"
    }
   ],
   "source": [
    "### Test Data RMSE\n",
    "math.sqrt(mean_squared_error(ytest,test_predict))"
   ]
  },
  {
   "cell_type": "code",
   "execution_count": 156,
   "id": "73541b5a",
   "metadata": {},
   "outputs": [
    {
     "ename": "ValueError",
     "evalue": "could not broadcast input array from shape (87,1) into shape (0,1)",
     "output_type": "error",
     "traceback": [
      "\u001b[0;31m---------------------------------------------------------------------------\u001b[0m",
      "\u001b[0;31mValueError\u001b[0m                                Traceback (most recent call last)",
      "\u001b[0;32m/var/folders/kb/12q6c4tj5ll7tcw5jt9kszt40000gn/T/ipykernel_32680/1195469339.py\u001b[0m in \u001b[0;36m<module>\u001b[0;34m\u001b[0m\n\u001b[1;32m      8\u001b[0m \u001b[0mtestPredictPlot\u001b[0m \u001b[0;34m=\u001b[0m \u001b[0mnumpy\u001b[0m\u001b[0;34m.\u001b[0m\u001b[0mempty_like\u001b[0m\u001b[0;34m(\u001b[0m\u001b[0mdf1\u001b[0m\u001b[0;34m)\u001b[0m\u001b[0;34m\u001b[0m\u001b[0;34m\u001b[0m\u001b[0m\n\u001b[1;32m      9\u001b[0m \u001b[0mtestPredictPlot\u001b[0m\u001b[0;34m[\u001b[0m\u001b[0;34m:\u001b[0m\u001b[0;34m,\u001b[0m \u001b[0;34m:\u001b[0m\u001b[0;34m]\u001b[0m \u001b[0;34m=\u001b[0m \u001b[0mnumpy\u001b[0m\u001b[0;34m.\u001b[0m\u001b[0mnan\u001b[0m\u001b[0;34m\u001b[0m\u001b[0;34m\u001b[0m\u001b[0m\n\u001b[0;32m---> 10\u001b[0;31m \u001b[0mtestPredictPlot\u001b[0m\u001b[0;34m[\u001b[0m\u001b[0mlen\u001b[0m\u001b[0;34m(\u001b[0m\u001b[0mtrain_predict\u001b[0m\u001b[0;34m)\u001b[0m\u001b[0;34m+\u001b[0m\u001b[0;34m(\u001b[0m\u001b[0mlook_back\u001b[0m\u001b[0;34m*\u001b[0m\u001b[0;36m2\u001b[0m\u001b[0;34m)\u001b[0m\u001b[0;34m+\u001b[0m\u001b[0;36m1\u001b[0m\u001b[0;34m:\u001b[0m\u001b[0mlen\u001b[0m\u001b[0;34m(\u001b[0m\u001b[0mdf1\u001b[0m\u001b[0;34m)\u001b[0m\u001b[0;34m-\u001b[0m\u001b[0;36m1\u001b[0m\u001b[0;34m,\u001b[0m \u001b[0;34m:\u001b[0m\u001b[0;34m]\u001b[0m \u001b[0;34m=\u001b[0m \u001b[0mtest_predict\u001b[0m\u001b[0;34m\u001b[0m\u001b[0;34m\u001b[0m\u001b[0m\n\u001b[0m\u001b[1;32m     11\u001b[0m \u001b[0;31m# plot baseline and predictions\u001b[0m\u001b[0;34m\u001b[0m\u001b[0;34m\u001b[0m\u001b[0m\n\u001b[1;32m     12\u001b[0m \u001b[0mplt\u001b[0m\u001b[0;34m.\u001b[0m\u001b[0mplot\u001b[0m\u001b[0;34m(\u001b[0m\u001b[0mscaler\u001b[0m\u001b[0;34m.\u001b[0m\u001b[0minverse_transform\u001b[0m\u001b[0;34m(\u001b[0m\u001b[0mdf1\u001b[0m\u001b[0;34m)\u001b[0m\u001b[0;34m)\u001b[0m\u001b[0;34m\u001b[0m\u001b[0;34m\u001b[0m\u001b[0m\n",
      "\u001b[0;31mValueError\u001b[0m: could not broadcast input array from shape (87,1) into shape (0,1)"
     ]
    }
   ],
   "source": [
    "### Plotting \n",
    "# shift train predictions for plotting\n",
    "look_back=100\n",
    "trainPredictPlot = numpy.empty_like(df1)\n",
    "trainPredictPlot[:, :] = np.nan\n",
    "trainPredictPlot[look_back:len(train_predict)+look_back, :] = train_predict\n",
    "# shift test predictions for plotting\n",
    "testPredictPlot = numpy.empty_like(df1)\n",
    "testPredictPlot[:, :] = numpy.nan\n",
    "testPredictPlot[len(train_predict)+(look_back*2)+1:len(df1)-1, :] = test_predict\n",
    "# plot baseline and predictions\n",
    "plt.plot(scaler.inverse_transform(df1))\n",
    "plt.plot(trainPredictPlot)\n",
    "plt.plot(testPredictPlot)\n",
    "plt.show()"
   ]
  },
  {
   "cell_type": "code",
   "execution_count": null,
   "id": "a6878caf",
   "metadata": {},
   "outputs": [],
   "source": []
  }
 ],
 "metadata": {
  "kernelspec": {
   "display_name": "Python 3 (ipykernel)",
   "language": "python",
   "name": "python3"
  },
  "language_info": {
   "codemirror_mode": {
    "name": "ipython",
    "version": 3
   },
   "file_extension": ".py",
   "mimetype": "text/x-python",
   "name": "python",
   "nbconvert_exporter": "python",
   "pygments_lexer": "ipython3",
   "version": "3.9.7"
  }
 },
 "nbformat": 4,
 "nbformat_minor": 5
}
